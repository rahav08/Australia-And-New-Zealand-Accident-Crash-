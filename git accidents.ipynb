{
 "cells": [
  {
   "cell_type": "code",
   "execution_count": 3,
   "metadata": {},
   "outputs": [],
   "source": [
    "import itertools\n",
    "import numpy as np\n",
    "import matplotlib.pyplot as plt\n",
    "from matplotlib.ticker import NullFormatter\n",
    "import pandas as pd\n",
    "import numpy as np\n",
    "import matplotlib.ticker as ticker\n",
    "from sklearn import preprocessing\n",
    "%matplotlib inline\n",
    "from sklearn.model_selection import train_test_split\n",
    "from sklearn.preprocessing import LabelEncoder\n",
    "from sklearn.preprocessing import OrdinalEncoder\n",
    "from sklearn.feature_selection import SelectKBest\n",
    "from sklearn.feature_selection import chi2"
   ]
  },
  {
   "cell_type": "code",
   "execution_count": 4,
   "metadata": {},
   "outputs": [],
   "source": [
    "casualities = pd.read_csv('Casualties.csv')"
   ]
  },
  {
   "cell_type": "code",
   "execution_count": 5,
   "metadata": {},
   "outputs": [
    {
     "name": "stderr",
     "output_type": "stream",
     "text": [
      "/Applications/anaconda3/lib/python3.7/site-packages/IPython/core/interactiveshell.py:3058: DtypeWarning: Columns (6) have mixed types. Specify dtype option on import or set low_memory=False.\n",
      "  interactivity=interactivity, compiler=compiler, result=result)\n"
     ]
    }
   ],
   "source": [
    "crash = pd.read_csv('Crash.csv')"
   ]
  },
  {
   "cell_type": "code",
   "execution_count": 6,
   "metadata": {},
   "outputs": [],
   "source": [
    "date = pd.read_csv('DateTime.csv')"
   ]
  },
  {
   "cell_type": "code",
   "execution_count": 7,
   "metadata": {},
   "outputs": [
    {
     "name": "stderr",
     "output_type": "stream",
     "text": [
      "/Applications/anaconda3/lib/python3.7/site-packages/IPython/core/interactiveshell.py:3058: DtypeWarning: Columns (3,6,7,8,9,10,11,12,13,14,16) have mixed types. Specify dtype option on import or set low_memory=False.\n",
      "  interactivity=interactivity, compiler=compiler, result=result)\n"
     ]
    }
   ],
   "source": [
    "description = pd.read_csv('Description.csv')"
   ]
  },
  {
   "cell_type": "code",
   "execution_count": 8,
   "metadata": {},
   "outputs": [
    {
     "name": "stderr",
     "output_type": "stream",
     "text": [
      "/Applications/anaconda3/lib/python3.7/site-packages/IPython/core/interactiveshell.py:3058: DtypeWarning: Columns (6,7,8) have mixed types. Specify dtype option on import or set low_memory=False.\n",
      "  interactivity=interactivity, compiler=compiler, result=result)\n"
     ]
    }
   ],
   "source": [
    "location = pd.read_csv('Location.csv')"
   ]
  },
  {
   "cell_type": "code",
   "execution_count": 9,
   "metadata": {},
   "outputs": [],
   "source": [
    "vehicles = pd.read_csv('Vehicles.csv')"
   ]
  },
  {
   "cell_type": "code",
   "execution_count": 10,
   "metadata": {},
   "outputs": [
    {
     "data": {
      "text/html": [
       "<div>\n",
       "<style scoped>\n",
       "    .dataframe tbody tr th:only-of-type {\n",
       "        vertical-align: middle;\n",
       "    }\n",
       "\n",
       "    .dataframe tbody tr th {\n",
       "        vertical-align: top;\n",
       "    }\n",
       "\n",
       "    .dataframe thead th {\n",
       "        text-align: right;\n",
       "    }\n",
       "</style>\n",
       "<table border=\"1\" class=\"dataframe\">\n",
       "  <thead>\n",
       "    <tr style=\"text-align: right;\">\n",
       "      <th></th>\n",
       "      <th>Unnamed: 0</th>\n",
       "      <th>casualties_id</th>\n",
       "      <th>casualties</th>\n",
       "      <th>fatalities</th>\n",
       "      <th>serious_injuries</th>\n",
       "      <th>minor_injuries</th>\n",
       "    </tr>\n",
       "  </thead>\n",
       "  <tbody>\n",
       "    <tr>\n",
       "      <td>0</td>\n",
       "      <td>0</td>\n",
       "      <td>0c</td>\n",
       "      <td>0.0</td>\n",
       "      <td>0.0</td>\n",
       "      <td>0.0</td>\n",
       "      <td>0.0</td>\n",
       "    </tr>\n",
       "    <tr>\n",
       "      <td>1</td>\n",
       "      <td>16</td>\n",
       "      <td>1c1m</td>\n",
       "      <td>1.0</td>\n",
       "      <td>0.0</td>\n",
       "      <td>0.0</td>\n",
       "      <td>1.0</td>\n",
       "    </tr>\n",
       "    <tr>\n",
       "      <td>2</td>\n",
       "      <td>57</td>\n",
       "      <td>2c2m</td>\n",
       "      <td>2.0</td>\n",
       "      <td>0.0</td>\n",
       "      <td>0.0</td>\n",
       "      <td>2.0</td>\n",
       "    </tr>\n",
       "    <tr>\n",
       "      <td>3</td>\n",
       "      <td>270</td>\n",
       "      <td>1c1s</td>\n",
       "      <td>1.0</td>\n",
       "      <td>0.0</td>\n",
       "      <td>1.0</td>\n",
       "      <td>0.0</td>\n",
       "    </tr>\n",
       "    <tr>\n",
       "      <td>4</td>\n",
       "      <td>573</td>\n",
       "      <td>1c1f</td>\n",
       "      <td>1.0</td>\n",
       "      <td>1.0</td>\n",
       "      <td>0.0</td>\n",
       "      <td>0.0</td>\n",
       "    </tr>\n",
       "  </tbody>\n",
       "</table>\n",
       "</div>"
      ],
      "text/plain": [
       "   Unnamed: 0 casualties_id  casualties  fatalities  serious_injuries  \\\n",
       "0           0            0c         0.0         0.0               0.0   \n",
       "1          16          1c1m         1.0         0.0               0.0   \n",
       "2          57          2c2m         2.0         0.0               0.0   \n",
       "3         270          1c1s         1.0         0.0               1.0   \n",
       "4         573          1c1f         1.0         1.0               0.0   \n",
       "\n",
       "   minor_injuries  \n",
       "0             0.0  \n",
       "1             1.0  \n",
       "2             2.0  \n",
       "3             0.0  \n",
       "4             0.0  "
      ]
     },
     "execution_count": 10,
     "metadata": {},
     "output_type": "execute_result"
    }
   ],
   "source": [
    "casualities.head()"
   ]
  },
  {
   "cell_type": "code",
   "execution_count": 11,
   "metadata": {},
   "outputs": [
    {
     "data": {
      "text/html": [
       "<div>\n",
       "<style scoped>\n",
       "    .dataframe tbody tr th:only-of-type {\n",
       "        vertical-align: middle;\n",
       "    }\n",
       "\n",
       "    .dataframe tbody tr th {\n",
       "        vertical-align: top;\n",
       "    }\n",
       "\n",
       "    .dataframe thead th {\n",
       "        text-align: right;\n",
       "    }\n",
       "</style>\n",
       "<table border=\"1\" class=\"dataframe\">\n",
       "  <thead>\n",
       "    <tr style=\"text-align: right;\">\n",
       "      <th></th>\n",
       "      <th>Unnamed: 0</th>\n",
       "      <th>date_time_id</th>\n",
       "      <th>year</th>\n",
       "      <th>month</th>\n",
       "      <th>day_of_week</th>\n",
       "      <th>day_of_month</th>\n",
       "      <th>hour</th>\n",
       "      <th>approximate</th>\n",
       "    </tr>\n",
       "  </thead>\n",
       "  <tbody>\n",
       "    <tr>\n",
       "      <td>0</td>\n",
       "      <td>0</td>\n",
       "      <td>2012-1--7-16</td>\n",
       "      <td>2012</td>\n",
       "      <td>1.0</td>\n",
       "      <td>7.0</td>\n",
       "      <td>NaN</td>\n",
       "      <td>16.0</td>\n",
       "      <td>True</td>\n",
       "    </tr>\n",
       "    <tr>\n",
       "      <td>1</td>\n",
       "      <td>1</td>\n",
       "      <td>2012-1--7-9</td>\n",
       "      <td>2012</td>\n",
       "      <td>1.0</td>\n",
       "      <td>7.0</td>\n",
       "      <td>NaN</td>\n",
       "      <td>9.0</td>\n",
       "      <td>True</td>\n",
       "    </tr>\n",
       "    <tr>\n",
       "      <td>2</td>\n",
       "      <td>2</td>\n",
       "      <td>2012-1--3-11</td>\n",
       "      <td>2012</td>\n",
       "      <td>1.0</td>\n",
       "      <td>3.0</td>\n",
       "      <td>NaN</td>\n",
       "      <td>11.0</td>\n",
       "      <td>True</td>\n",
       "    </tr>\n",
       "    <tr>\n",
       "      <td>3</td>\n",
       "      <td>3</td>\n",
       "      <td>2012-1--3-10</td>\n",
       "      <td>2012</td>\n",
       "      <td>1.0</td>\n",
       "      <td>3.0</td>\n",
       "      <td>NaN</td>\n",
       "      <td>10.0</td>\n",
       "      <td>True</td>\n",
       "    </tr>\n",
       "    <tr>\n",
       "      <td>4</td>\n",
       "      <td>4</td>\n",
       "      <td>2012-1--3-15</td>\n",
       "      <td>2012</td>\n",
       "      <td>1.0</td>\n",
       "      <td>3.0</td>\n",
       "      <td>NaN</td>\n",
       "      <td>15.0</td>\n",
       "      <td>True</td>\n",
       "    </tr>\n",
       "  </tbody>\n",
       "</table>\n",
       "</div>"
      ],
      "text/plain": [
       "   Unnamed: 0  date_time_id  year  month  day_of_week  day_of_month  hour  \\\n",
       "0           0  2012-1--7-16  2012    1.0          7.0           NaN  16.0   \n",
       "1           1   2012-1--7-9  2012    1.0          7.0           NaN   9.0   \n",
       "2           2  2012-1--3-11  2012    1.0          3.0           NaN  11.0   \n",
       "3           3  2012-1--3-10  2012    1.0          3.0           NaN  10.0   \n",
       "4           4  2012-1--3-15  2012    1.0          3.0           NaN  15.0   \n",
       "\n",
       "   approximate  \n",
       "0         True  \n",
       "1         True  \n",
       "2         True  \n",
       "3         True  \n",
       "4         True  "
      ]
     },
     "execution_count": 11,
     "metadata": {},
     "output_type": "execute_result"
    }
   ],
   "source": [
    "date.head()"
   ]
  },
  {
   "cell_type": "code",
   "execution_count": 12,
   "metadata": {},
   "outputs": [
    {
     "name": "stdout",
     "output_type": "stream",
     "text": [
      "<class 'pandas.core.frame.DataFrame'>\n",
      "RangeIndex: 127505 entries, 0 to 127504\n",
      "Data columns (total 8 columns):\n",
      "Unnamed: 0      127505 non-null int64\n",
      "date_time_id    127505 non-null object\n",
      "year            127505 non-null int64\n",
      "month           127486 non-null float64\n",
      "day_of_week     127486 non-null float64\n",
      "day_of_month    92802 non-null float64\n",
      "hour            127486 non-null float64\n",
      "approximate     127505 non-null bool\n",
      "dtypes: bool(1), float64(4), int64(2), object(1)\n",
      "memory usage: 6.9+ MB\n"
     ]
    }
   ],
   "source": [
    "date.info()"
   ]
  },
  {
   "cell_type": "code",
   "execution_count": 13,
   "metadata": {},
   "outputs": [
    {
     "name": "stdout",
     "output_type": "stream",
     "text": [
      "vehicles_id has 2 null values\n",
      "animals has 1 null values\n",
      "car_sedan has 1 null values\n",
      "car_utility has 1 null values\n",
      "car_van has 1 null values\n",
      "car_4x4 has 1 null values\n",
      "car_station_wagon has 1 null values\n",
      "motor_cycle has 1 null values\n",
      "truck_small has 1 null values\n",
      "truck_large has 1 null values\n",
      "bus has 1 null values\n",
      "taxi has 1 null values\n",
      "bicycle has 1 null values\n",
      "scooter has 1 null values\n",
      "pedestrian has 1 null values\n",
      "inanimate has 1 null values\n",
      "train has 1 null values\n",
      "tram has 1 null values\n",
      "vehicle_other has 1 null values\n"
     ]
    }
   ],
   "source": [
    "for i in vehicles.columns: \n",
    "    if vehicles[i].isnull().any():\n",
    "     print('{0} has {1} null values'.format(i,vehicles[i].isnull().sum()))\n"
   ]
  },
  {
   "cell_type": "code",
   "execution_count": 14,
   "metadata": {},
   "outputs": [
    {
     "name": "stdout",
     "output_type": "stream",
     "text": [
      "<class 'pandas.core.frame.DataFrame'>\n",
      "RangeIndex: 2434 entries, 0 to 2433\n",
      "Data columns (total 20 columns):\n",
      "Unnamed: 0           2434 non-null int64\n",
      "vehicles_id          2432 non-null object\n",
      "animals              2433 non-null float64\n",
      "car_sedan            2433 non-null float64\n",
      "car_utility          2433 non-null float64\n",
      "car_van              2433 non-null float64\n",
      "car_4x4              2433 non-null float64\n",
      "car_station_wagon    2433 non-null float64\n",
      "motor_cycle          2433 non-null float64\n",
      "truck_small          2433 non-null float64\n",
      "truck_large          2433 non-null float64\n",
      "bus                  2433 non-null float64\n",
      "taxi                 2433 non-null float64\n",
      "bicycle              2433 non-null float64\n",
      "scooter              2433 non-null float64\n",
      "pedestrian           2433 non-null float64\n",
      "inanimate            2433 non-null float64\n",
      "train                2433 non-null float64\n",
      "tram                 2433 non-null float64\n",
      "vehicle_other        2433 non-null float64\n",
      "dtypes: float64(18), int64(1), object(1)\n",
      "memory usage: 380.4+ KB\n"
     ]
    }
   ],
   "source": [
    "vehicles.info()"
   ]
  },
  {
   "cell_type": "code",
   "execution_count": 15,
   "metadata": {},
   "outputs": [
    {
     "name": "stdout",
     "output_type": "stream",
     "text": [
      "<class 'pandas.core.frame.DataFrame'>\n",
      "RangeIndex: 922134 entries, 0 to 922133\n",
      "Data columns (total 9 columns):\n",
      "Unnamed: 0               922134 non-null int64\n",
      "lat_long                 922134 non-null object\n",
      "latitude                 844695 non-null float64\n",
      "longitude                918263 non-null float64\n",
      "country                  922134 non-null object\n",
      "state                    922134 non-null object\n",
      "local_government_area    790287 non-null object\n",
      "statistical_area         595623 non-null object\n",
      "suburb                   332073 non-null object\n",
      "dtypes: float64(2), int64(1), object(6)\n",
      "memory usage: 63.3+ MB\n"
     ]
    }
   ],
   "source": [
    "#description\n",
    "#location\n",
    "location.info()"
   ]
  },
  {
   "cell_type": "code",
   "execution_count": 16,
   "metadata": {},
   "outputs": [
    {
     "name": "stdout",
     "output_type": "stream",
     "text": [
      "<class 'pandas.core.frame.DataFrame'>\n",
      "RangeIndex: 259 entries, 0 to 258\n",
      "Data columns (total 6 columns):\n",
      "Unnamed: 0          259 non-null int64\n",
      "casualties_id       258 non-null object\n",
      "casualties          258 non-null float64\n",
      "fatalities          258 non-null float64\n",
      "serious_injuries    258 non-null float64\n",
      "minor_injuries      258 non-null float64\n",
      "dtypes: float64(4), int64(1), object(1)\n",
      "memory usage: 12.3+ KB\n"
     ]
    }
   ],
   "source": [
    "casualities.info()"
   ]
  },
  {
   "cell_type": "code",
   "execution_count": 17,
   "metadata": {},
   "outputs": [
    {
     "data": {
      "text/html": [
       "<div>\n",
       "<style scoped>\n",
       "    .dataframe tbody tr th:only-of-type {\n",
       "        vertical-align: middle;\n",
       "    }\n",
       "\n",
       "    .dataframe tbody tr th {\n",
       "        vertical-align: top;\n",
       "    }\n",
       "\n",
       "    .dataframe thead th {\n",
       "        text-align: right;\n",
       "    }\n",
       "</style>\n",
       "<table border=\"1\" class=\"dataframe\">\n",
       "  <thead>\n",
       "    <tr style=\"text-align: right;\">\n",
       "      <th></th>\n",
       "      <th>Unnamed: 0</th>\n",
       "      <th>date_time_id</th>\n",
       "      <th>year</th>\n",
       "      <th>month</th>\n",
       "      <th>day_of_week</th>\n",
       "      <th>day_of_month</th>\n",
       "      <th>hour</th>\n",
       "      <th>approximate</th>\n",
       "    </tr>\n",
       "  </thead>\n",
       "  <tbody>\n",
       "    <tr>\n",
       "      <td>0</td>\n",
       "      <td>0</td>\n",
       "      <td>2012-1--7-16</td>\n",
       "      <td>2012</td>\n",
       "      <td>1.0</td>\n",
       "      <td>7.0</td>\n",
       "      <td>NaN</td>\n",
       "      <td>16.0</td>\n",
       "      <td>True</td>\n",
       "    </tr>\n",
       "    <tr>\n",
       "      <td>1</td>\n",
       "      <td>1</td>\n",
       "      <td>2012-1--7-9</td>\n",
       "      <td>2012</td>\n",
       "      <td>1.0</td>\n",
       "      <td>7.0</td>\n",
       "      <td>NaN</td>\n",
       "      <td>9.0</td>\n",
       "      <td>True</td>\n",
       "    </tr>\n",
       "    <tr>\n",
       "      <td>2</td>\n",
       "      <td>2</td>\n",
       "      <td>2012-1--3-11</td>\n",
       "      <td>2012</td>\n",
       "      <td>1.0</td>\n",
       "      <td>3.0</td>\n",
       "      <td>NaN</td>\n",
       "      <td>11.0</td>\n",
       "      <td>True</td>\n",
       "    </tr>\n",
       "    <tr>\n",
       "      <td>3</td>\n",
       "      <td>3</td>\n",
       "      <td>2012-1--3-10</td>\n",
       "      <td>2012</td>\n",
       "      <td>1.0</td>\n",
       "      <td>3.0</td>\n",
       "      <td>NaN</td>\n",
       "      <td>10.0</td>\n",
       "      <td>True</td>\n",
       "    </tr>\n",
       "    <tr>\n",
       "      <td>4</td>\n",
       "      <td>4</td>\n",
       "      <td>2012-1--3-15</td>\n",
       "      <td>2012</td>\n",
       "      <td>1.0</td>\n",
       "      <td>3.0</td>\n",
       "      <td>NaN</td>\n",
       "      <td>15.0</td>\n",
       "      <td>True</td>\n",
       "    </tr>\n",
       "  </tbody>\n",
       "</table>\n",
       "</div>"
      ],
      "text/plain": [
       "   Unnamed: 0  date_time_id  year  month  day_of_week  day_of_month  hour  \\\n",
       "0           0  2012-1--7-16  2012    1.0          7.0           NaN  16.0   \n",
       "1           1   2012-1--7-9  2012    1.0          7.0           NaN   9.0   \n",
       "2           2  2012-1--3-11  2012    1.0          3.0           NaN  11.0   \n",
       "3           3  2012-1--3-10  2012    1.0          3.0           NaN  10.0   \n",
       "4           4  2012-1--3-15  2012    1.0          3.0           NaN  15.0   \n",
       "\n",
       "   approximate  \n",
       "0         True  \n",
       "1         True  \n",
       "2         True  \n",
       "3         True  \n",
       "4         True  "
      ]
     },
     "execution_count": 17,
     "metadata": {},
     "output_type": "execute_result"
    }
   ],
   "source": [
    "date.head()"
   ]
  },
  {
   "cell_type": "code",
   "execution_count": 18,
   "metadata": {},
   "outputs": [
    {
     "data": {
      "text/html": [
       "<div>\n",
       "<style scoped>\n",
       "    .dataframe tbody tr th:only-of-type {\n",
       "        vertical-align: middle;\n",
       "    }\n",
       "\n",
       "    .dataframe tbody tr th {\n",
       "        vertical-align: top;\n",
       "    }\n",
       "\n",
       "    .dataframe thead th {\n",
       "        text-align: right;\n",
       "    }\n",
       "</style>\n",
       "<table border=\"1\" class=\"dataframe\">\n",
       "  <thead>\n",
       "    <tr style=\"text-align: right;\">\n",
       "      <th></th>\n",
       "      <th>Unnamed: 0</th>\n",
       "      <th>description_id</th>\n",
       "      <th>severity</th>\n",
       "      <th>speed_limit</th>\n",
       "      <th>midblock</th>\n",
       "      <th>intersection</th>\n",
       "      <th>road_position_horizontal</th>\n",
       "      <th>road_position_vertical</th>\n",
       "      <th>road_sealed</th>\n",
       "      <th>road_wet</th>\n",
       "      <th>weather</th>\n",
       "      <th>crash_type</th>\n",
       "      <th>lighting</th>\n",
       "      <th>traffic_controls</th>\n",
       "      <th>drugs_alcohol</th>\n",
       "      <th>DCA_code</th>\n",
       "      <th>comment</th>\n",
       "    </tr>\n",
       "  </thead>\n",
       "  <tbody>\n",
       "    <tr>\n",
       "      <td>0</td>\n",
       "      <td>0</td>\n",
       "      <td>0</td>\n",
       "      <td>property_damage</td>\n",
       "      <td>60</td>\n",
       "      <td>True</td>\n",
       "      <td>False</td>\n",
       "      <td>straight</td>\n",
       "      <td>level</td>\n",
       "      <td>True</td>\n",
       "      <td>False</td>\n",
       "      <td>fine</td>\n",
       "      <td>Right Angle</td>\n",
       "      <td>daylight</td>\n",
       "      <td>none</td>\n",
       "      <td>NaN</td>\n",
       "      <td>NaN</td>\n",
       "      <td>NaN</td>\n",
       "    </tr>\n",
       "    <tr>\n",
       "      <td>1</td>\n",
       "      <td>1</td>\n",
       "      <td>1</td>\n",
       "      <td>property_damage</td>\n",
       "      <td>40</td>\n",
       "      <td>True</td>\n",
       "      <td>False</td>\n",
       "      <td>straight</td>\n",
       "      <td>level</td>\n",
       "      <td>True</td>\n",
       "      <td>False</td>\n",
       "      <td>fine</td>\n",
       "      <td>Hit Parked Vehicle</td>\n",
       "      <td>daylight</td>\n",
       "      <td>none</td>\n",
       "      <td>NaN</td>\n",
       "      <td>NaN</td>\n",
       "      <td>NaN</td>\n",
       "    </tr>\n",
       "    <tr>\n",
       "      <td>2</td>\n",
       "      <td>2</td>\n",
       "      <td>2</td>\n",
       "      <td>property_damage</td>\n",
       "      <td>100</td>\n",
       "      <td>True</td>\n",
       "      <td>False</td>\n",
       "      <td>straight</td>\n",
       "      <td>slope</td>\n",
       "      <td>True</td>\n",
       "      <td>False</td>\n",
       "      <td>fine</td>\n",
       "      <td>Other</td>\n",
       "      <td>daylight</td>\n",
       "      <td>none</td>\n",
       "      <td>NaN</td>\n",
       "      <td>NaN</td>\n",
       "      <td>NaN</td>\n",
       "    </tr>\n",
       "    <tr>\n",
       "      <td>3</td>\n",
       "      <td>3</td>\n",
       "      <td>3</td>\n",
       "      <td>property_damage</td>\n",
       "      <td>60</td>\n",
       "      <td>False</td>\n",
       "      <td>True</td>\n",
       "      <td>straight</td>\n",
       "      <td>level</td>\n",
       "      <td>True</td>\n",
       "      <td>False</td>\n",
       "      <td>fine</td>\n",
       "      <td>Rear End</td>\n",
       "      <td>daylight</td>\n",
       "      <td>stop_sign</td>\n",
       "      <td>NaN</td>\n",
       "      <td>NaN</td>\n",
       "      <td>NaN</td>\n",
       "    </tr>\n",
       "    <tr>\n",
       "      <td>4</td>\n",
       "      <td>4</td>\n",
       "      <td>4</td>\n",
       "      <td>property_damage</td>\n",
       "      <td>60</td>\n",
       "      <td>False</td>\n",
       "      <td>True</td>\n",
       "      <td>straight</td>\n",
       "      <td>level</td>\n",
       "      <td>True</td>\n",
       "      <td>False</td>\n",
       "      <td>fine</td>\n",
       "      <td>Rear End</td>\n",
       "      <td>daylight</td>\n",
       "      <td>traffic_lights</td>\n",
       "      <td>NaN</td>\n",
       "      <td>NaN</td>\n",
       "      <td>NaN</td>\n",
       "    </tr>\n",
       "  </tbody>\n",
       "</table>\n",
       "</div>"
      ],
      "text/plain": [
       "   Unnamed: 0  description_id         severity speed_limit  midblock  \\\n",
       "0           0               0  property_damage          60      True   \n",
       "1           1               1  property_damage          40      True   \n",
       "2           2               2  property_damage         100      True   \n",
       "3           3               3  property_damage          60     False   \n",
       "4           4               4  property_damage          60     False   \n",
       "\n",
       "   intersection road_position_horizontal road_position_vertical road_sealed  \\\n",
       "0         False                 straight                  level        True   \n",
       "1         False                 straight                  level        True   \n",
       "2         False                 straight                  slope        True   \n",
       "3          True                 straight                  level        True   \n",
       "4          True                 straight                  level        True   \n",
       "\n",
       "  road_wet weather          crash_type  lighting traffic_controls  \\\n",
       "0    False    fine         Right Angle  daylight             none   \n",
       "1    False    fine  Hit Parked Vehicle  daylight             none   \n",
       "2    False    fine               Other  daylight             none   \n",
       "3    False    fine            Rear End  daylight        stop_sign   \n",
       "4    False    fine            Rear End  daylight   traffic_lights   \n",
       "\n",
       "  drugs_alcohol  DCA_code comment  \n",
       "0           NaN       NaN     NaN  \n",
       "1           NaN       NaN     NaN  \n",
       "2           NaN       NaN     NaN  \n",
       "3           NaN       NaN     NaN  \n",
       "4           NaN       NaN     NaN  "
      ]
     },
     "execution_count": 18,
     "metadata": {},
     "output_type": "execute_result"
    }
   ],
   "source": [
    "description.head()"
   ]
  },
  {
   "cell_type": "code",
   "execution_count": 19,
   "metadata": {},
   "outputs": [
    {
     "data": {
      "text/html": [
       "<div>\n",
       "<style scoped>\n",
       "    .dataframe tbody tr th:only-of-type {\n",
       "        vertical-align: middle;\n",
       "    }\n",
       "\n",
       "    .dataframe tbody tr th {\n",
       "        vertical-align: top;\n",
       "    }\n",
       "\n",
       "    .dataframe thead th {\n",
       "        text-align: right;\n",
       "    }\n",
       "</style>\n",
       "<table border=\"1\" class=\"dataframe\">\n",
       "  <thead>\n",
       "    <tr style=\"text-align: right;\">\n",
       "      <th></th>\n",
       "      <th>Unnamed: 0</th>\n",
       "      <th>lat_long</th>\n",
       "      <th>latitude</th>\n",
       "      <th>longitude</th>\n",
       "      <th>country</th>\n",
       "      <th>state</th>\n",
       "      <th>local_government_area</th>\n",
       "      <th>statistical_area</th>\n",
       "      <th>suburb</th>\n",
       "    </tr>\n",
       "  </thead>\n",
       "  <tbody>\n",
       "    <tr>\n",
       "      <td>0</td>\n",
       "      <td>0</td>\n",
       "      <td>(-34.914968707994774, 138.62326191400015)</td>\n",
       "      <td>-34.914969</td>\n",
       "      <td>138.623262</td>\n",
       "      <td>AU</td>\n",
       "      <td>SA</td>\n",
       "      <td>CC OF NORWOOD,PAYNEHAM &amp; ST PETERS</td>\n",
       "      <td>NaN</td>\n",
       "      <td>STEPNEY</td>\n",
       "    </tr>\n",
       "    <tr>\n",
       "      <td>1</td>\n",
       "      <td>1</td>\n",
       "      <td>(-34.945411892314496, 138.61069073873753)</td>\n",
       "      <td>-34.945412</td>\n",
       "      <td>138.610691</td>\n",
       "      <td>AU</td>\n",
       "      <td>SA</td>\n",
       "      <td>CITY OF UNLEY</td>\n",
       "      <td>NaN</td>\n",
       "      <td>PARKSIDE</td>\n",
       "    </tr>\n",
       "    <tr>\n",
       "      <td>2</td>\n",
       "      <td>2</td>\n",
       "      <td>(-35.348782706688546, 138.4547384995269)</td>\n",
       "      <td>-35.348783</td>\n",
       "      <td>138.454738</td>\n",
       "      <td>AU</td>\n",
       "      <td>SA</td>\n",
       "      <td>CITY OF ONKAPARINGA</td>\n",
       "      <td>NaN</td>\n",
       "      <td>SELLICKS BEACH</td>\n",
       "    </tr>\n",
       "    <tr>\n",
       "      <td>3</td>\n",
       "      <td>3</td>\n",
       "      <td>(-34.91089013663556, 138.56464045685533)</td>\n",
       "      <td>-34.910890</td>\n",
       "      <td>138.564640</td>\n",
       "      <td>AU</td>\n",
       "      <td>SA</td>\n",
       "      <td>CITY OF CHARLES STURT</td>\n",
       "      <td>NaN</td>\n",
       "      <td>HINDMARSH</td>\n",
       "    </tr>\n",
       "    <tr>\n",
       "      <td>4</td>\n",
       "      <td>4</td>\n",
       "      <td>(-34.90523508247097, 138.57241145966046)</td>\n",
       "      <td>-34.905235</td>\n",
       "      <td>138.572411</td>\n",
       "      <td>AU</td>\n",
       "      <td>SA</td>\n",
       "      <td>CITY OF CHARLES STURT</td>\n",
       "      <td>NaN</td>\n",
       "      <td>HINDMARSH</td>\n",
       "    </tr>\n",
       "  </tbody>\n",
       "</table>\n",
       "</div>"
      ],
      "text/plain": [
       "   Unnamed: 0                                   lat_long   latitude  \\\n",
       "0           0  (-34.914968707994774, 138.62326191400015) -34.914969   \n",
       "1           1  (-34.945411892314496, 138.61069073873753) -34.945412   \n",
       "2           2   (-35.348782706688546, 138.4547384995269) -35.348783   \n",
       "3           3   (-34.91089013663556, 138.56464045685533) -34.910890   \n",
       "4           4   (-34.90523508247097, 138.57241145966046) -34.905235   \n",
       "\n",
       "    longitude country state               local_government_area  \\\n",
       "0  138.623262      AU    SA  CC OF NORWOOD,PAYNEHAM & ST PETERS   \n",
       "1  138.610691      AU    SA                       CITY OF UNLEY   \n",
       "2  138.454738      AU    SA                 CITY OF ONKAPARINGA   \n",
       "3  138.564640      AU    SA               CITY OF CHARLES STURT   \n",
       "4  138.572411      AU    SA               CITY OF CHARLES STURT   \n",
       "\n",
       "  statistical_area          suburb  \n",
       "0              NaN         STEPNEY  \n",
       "1              NaN        PARKSIDE  \n",
       "2              NaN  SELLICKS BEACH  \n",
       "3              NaN       HINDMARSH  \n",
       "4              NaN       HINDMARSH  "
      ]
     },
     "execution_count": 19,
     "metadata": {},
     "output_type": "execute_result"
    }
   ],
   "source": [
    "location.head()"
   ]
  },
  {
   "cell_type": "code",
   "execution_count": 20,
   "metadata": {},
   "outputs": [
    {
     "data": {
      "text/html": [
       "<div>\n",
       "<style scoped>\n",
       "    .dataframe tbody tr th:only-of-type {\n",
       "        vertical-align: middle;\n",
       "    }\n",
       "\n",
       "    .dataframe tbody tr th {\n",
       "        vertical-align: top;\n",
       "    }\n",
       "\n",
       "    .dataframe thead th {\n",
       "        text-align: right;\n",
       "    }\n",
       "</style>\n",
       "<table border=\"1\" class=\"dataframe\">\n",
       "  <thead>\n",
       "    <tr style=\"text-align: right;\">\n",
       "      <th></th>\n",
       "      <th>Unnamed: 0</th>\n",
       "      <th>vehicles_id</th>\n",
       "      <th>animals</th>\n",
       "      <th>car_sedan</th>\n",
       "      <th>car_utility</th>\n",
       "      <th>car_van</th>\n",
       "      <th>car_4x4</th>\n",
       "      <th>car_station_wagon</th>\n",
       "      <th>motor_cycle</th>\n",
       "      <th>truck_small</th>\n",
       "      <th>truck_large</th>\n",
       "      <th>bus</th>\n",
       "      <th>taxi</th>\n",
       "      <th>bicycle</th>\n",
       "      <th>scooter</th>\n",
       "      <th>pedestrian</th>\n",
       "      <th>inanimate</th>\n",
       "      <th>train</th>\n",
       "      <th>tram</th>\n",
       "      <th>vehicle_other</th>\n",
       "    </tr>\n",
       "  </thead>\n",
       "  <tbody>\n",
       "    <tr>\n",
       "      <td>0</td>\n",
       "      <td>0</td>\n",
       "      <td>1c1b</td>\n",
       "      <td>0.0</td>\n",
       "      <td>1.0</td>\n",
       "      <td>0.0</td>\n",
       "      <td>0.0</td>\n",
       "      <td>0.0</td>\n",
       "      <td>0.0</td>\n",
       "      <td>0.0</td>\n",
       "      <td>0.0</td>\n",
       "      <td>0.0</td>\n",
       "      <td>0.0</td>\n",
       "      <td>0.0</td>\n",
       "      <td>1.0</td>\n",
       "      <td>0.0</td>\n",
       "      <td>0.0</td>\n",
       "      <td>0.0</td>\n",
       "      <td>0.0</td>\n",
       "      <td>0.0</td>\n",
       "      <td>0.0</td>\n",
       "    </tr>\n",
       "    <tr>\n",
       "      <td>1</td>\n",
       "      <td>1</td>\n",
       "      <td>2c</td>\n",
       "      <td>0.0</td>\n",
       "      <td>2.0</td>\n",
       "      <td>0.0</td>\n",
       "      <td>0.0</td>\n",
       "      <td>0.0</td>\n",
       "      <td>0.0</td>\n",
       "      <td>0.0</td>\n",
       "      <td>0.0</td>\n",
       "      <td>0.0</td>\n",
       "      <td>0.0</td>\n",
       "      <td>0.0</td>\n",
       "      <td>0.0</td>\n",
       "      <td>0.0</td>\n",
       "      <td>0.0</td>\n",
       "      <td>0.0</td>\n",
       "      <td>0.0</td>\n",
       "      <td>0.0</td>\n",
       "      <td>0.0</td>\n",
       "    </tr>\n",
       "    <tr>\n",
       "      <td>2</td>\n",
       "      <td>2</td>\n",
       "      <td>2c1i</td>\n",
       "      <td>0.0</td>\n",
       "      <td>2.0</td>\n",
       "      <td>0.0</td>\n",
       "      <td>0.0</td>\n",
       "      <td>0.0</td>\n",
       "      <td>0.0</td>\n",
       "      <td>0.0</td>\n",
       "      <td>0.0</td>\n",
       "      <td>0.0</td>\n",
       "      <td>0.0</td>\n",
       "      <td>0.0</td>\n",
       "      <td>0.0</td>\n",
       "      <td>0.0</td>\n",
       "      <td>0.0</td>\n",
       "      <td>1.0</td>\n",
       "      <td>0.0</td>\n",
       "      <td>0.0</td>\n",
       "      <td>0.0</td>\n",
       "    </tr>\n",
       "    <tr>\n",
       "      <td>3</td>\n",
       "      <td>3</td>\n",
       "      <td>2w</td>\n",
       "      <td>0.0</td>\n",
       "      <td>0.0</td>\n",
       "      <td>0.0</td>\n",
       "      <td>0.0</td>\n",
       "      <td>0.0</td>\n",
       "      <td>2.0</td>\n",
       "      <td>0.0</td>\n",
       "      <td>0.0</td>\n",
       "      <td>0.0</td>\n",
       "      <td>0.0</td>\n",
       "      <td>0.0</td>\n",
       "      <td>0.0</td>\n",
       "      <td>0.0</td>\n",
       "      <td>0.0</td>\n",
       "      <td>0.0</td>\n",
       "      <td>0.0</td>\n",
       "      <td>0.0</td>\n",
       "      <td>0.0</td>\n",
       "    </tr>\n",
       "    <tr>\n",
       "      <td>4</td>\n",
       "      <td>4</td>\n",
       "      <td>1c1w</td>\n",
       "      <td>0.0</td>\n",
       "      <td>1.0</td>\n",
       "      <td>0.0</td>\n",
       "      <td>0.0</td>\n",
       "      <td>0.0</td>\n",
       "      <td>1.0</td>\n",
       "      <td>0.0</td>\n",
       "      <td>0.0</td>\n",
       "      <td>0.0</td>\n",
       "      <td>0.0</td>\n",
       "      <td>0.0</td>\n",
       "      <td>0.0</td>\n",
       "      <td>0.0</td>\n",
       "      <td>0.0</td>\n",
       "      <td>0.0</td>\n",
       "      <td>0.0</td>\n",
       "      <td>0.0</td>\n",
       "      <td>0.0</td>\n",
       "    </tr>\n",
       "  </tbody>\n",
       "</table>\n",
       "</div>"
      ],
      "text/plain": [
       "   Unnamed: 0 vehicles_id  animals  car_sedan  car_utility  car_van  car_4x4  \\\n",
       "0           0        1c1b      0.0        1.0          0.0      0.0      0.0   \n",
       "1           1          2c      0.0        2.0          0.0      0.0      0.0   \n",
       "2           2        2c1i      0.0        2.0          0.0      0.0      0.0   \n",
       "3           3          2w      0.0        0.0          0.0      0.0      0.0   \n",
       "4           4        1c1w      0.0        1.0          0.0      0.0      0.0   \n",
       "\n",
       "   car_station_wagon  motor_cycle  truck_small  truck_large  bus  taxi  \\\n",
       "0                0.0          0.0          0.0          0.0  0.0   0.0   \n",
       "1                0.0          0.0          0.0          0.0  0.0   0.0   \n",
       "2                0.0          0.0          0.0          0.0  0.0   0.0   \n",
       "3                2.0          0.0          0.0          0.0  0.0   0.0   \n",
       "4                1.0          0.0          0.0          0.0  0.0   0.0   \n",
       "\n",
       "   bicycle  scooter  pedestrian  inanimate  train  tram  vehicle_other  \n",
       "0      1.0      0.0         0.0        0.0    0.0   0.0            0.0  \n",
       "1      0.0      0.0         0.0        0.0    0.0   0.0            0.0  \n",
       "2      0.0      0.0         0.0        1.0    0.0   0.0            0.0  \n",
       "3      0.0      0.0         0.0        0.0    0.0   0.0            0.0  \n",
       "4      0.0      0.0         0.0        0.0    0.0   0.0            0.0  "
      ]
     },
     "execution_count": 20,
     "metadata": {},
     "output_type": "execute_result"
    }
   ],
   "source": [
    "vehicles.head()"
   ]
  },
  {
   "cell_type": "code",
   "execution_count": 21,
   "metadata": {},
   "outputs": [
    {
     "data": {
      "text/plain": [
       "Index(['Unnamed: 0', 'casualties_id', 'casualties', 'fatalities',\n",
       "       'serious_injuries', 'minor_injuries'],\n",
       "      dtype='object')"
      ]
     },
     "execution_count": 21,
     "metadata": {},
     "output_type": "execute_result"
    }
   ],
   "source": [
    "casualities.columns"
   ]
  },
  {
   "cell_type": "code",
   "execution_count": 22,
   "metadata": {},
   "outputs": [
    {
     "name": "stdout",
     "output_type": "stream",
     "text": [
      "casualties_id has 1 null values\n",
      "casualties has 1 null values\n",
      "fatalities has 1 null values\n",
      "serious_injuries has 1 null values\n",
      "minor_injuries has 1 null values\n"
     ]
    }
   ],
   "source": [
    "for i in casualities.columns: \n",
    "    if casualities[i].isnull().any():\n",
    "     print('{0} has {1} null values'.format(i,casualities[i].isnull().sum()))\n"
   ]
  },
  {
   "cell_type": "code",
   "execution_count": 23,
   "metadata": {},
   "outputs": [
    {
     "data": {
      "text/plain": [
       "Index(['Unnamed: 0', 'crash_id', 'lat_long', 'date_time_id', 'description_id',\n",
       "       'vehicles_id', 'casualties_id'],\n",
       "      dtype='object')"
      ]
     },
     "execution_count": 23,
     "metadata": {},
     "output_type": "execute_result"
    }
   ],
   "source": [
    "crash.columns"
   ]
  },
  {
   "cell_type": "code",
   "execution_count": 24,
   "metadata": {},
   "outputs": [
    {
     "data": {
      "text/html": [
       "<div>\n",
       "<style scoped>\n",
       "    .dataframe tbody tr th:only-of-type {\n",
       "        vertical-align: middle;\n",
       "    }\n",
       "\n",
       "    .dataframe tbody tr th {\n",
       "        vertical-align: top;\n",
       "    }\n",
       "\n",
       "    .dataframe thead th {\n",
       "        text-align: right;\n",
       "    }\n",
       "</style>\n",
       "<table border=\"1\" class=\"dataframe\">\n",
       "  <thead>\n",
       "    <tr style=\"text-align: right;\">\n",
       "      <th></th>\n",
       "      <th>Unnamed: 0</th>\n",
       "      <th>crash_id</th>\n",
       "      <th>lat_long</th>\n",
       "      <th>date_time_id</th>\n",
       "      <th>description_id</th>\n",
       "      <th>vehicles_id</th>\n",
       "      <th>casualties_id</th>\n",
       "    </tr>\n",
       "  </thead>\n",
       "  <tbody>\n",
       "    <tr>\n",
       "      <td>0</td>\n",
       "      <td>0</td>\n",
       "      <td>SA2012-1-21/08/2019</td>\n",
       "      <td>(-34.914968707994774, 138.62326191400015)</td>\n",
       "      <td>2012-1--7-16</td>\n",
       "      <td>0</td>\n",
       "      <td>1c1b</td>\n",
       "      <td>0c</td>\n",
       "    </tr>\n",
       "    <tr>\n",
       "      <td>1</td>\n",
       "      <td>1</td>\n",
       "      <td>SA2012-2-21/08/2019</td>\n",
       "      <td>(-34.945411892314496, 138.61069073873753)</td>\n",
       "      <td>2012-1--7-9</td>\n",
       "      <td>1</td>\n",
       "      <td>2c</td>\n",
       "      <td>0c</td>\n",
       "    </tr>\n",
       "    <tr>\n",
       "      <td>2</td>\n",
       "      <td>2</td>\n",
       "      <td>SA2012-3-21/08/2019</td>\n",
       "      <td>(-35.348782706688546, 138.4547384995269)</td>\n",
       "      <td>2012-1--3-11</td>\n",
       "      <td>2</td>\n",
       "      <td>2c1i</td>\n",
       "      <td>0c</td>\n",
       "    </tr>\n",
       "    <tr>\n",
       "      <td>3</td>\n",
       "      <td>3</td>\n",
       "      <td>SA2012-4-21/08/2019</td>\n",
       "      <td>(-34.91089013663556, 138.56464045685533)</td>\n",
       "      <td>2012-1--3-10</td>\n",
       "      <td>3</td>\n",
       "      <td>2w</td>\n",
       "      <td>0c</td>\n",
       "    </tr>\n",
       "    <tr>\n",
       "      <td>4</td>\n",
       "      <td>4</td>\n",
       "      <td>SA2012-5-21/08/2019</td>\n",
       "      <td>(-34.90523508247097, 138.57241145966046)</td>\n",
       "      <td>2012-1--3-15</td>\n",
       "      <td>4</td>\n",
       "      <td>1c1w</td>\n",
       "      <td>0c</td>\n",
       "    </tr>\n",
       "  </tbody>\n",
       "</table>\n",
       "</div>"
      ],
      "text/plain": [
       "   Unnamed: 0             crash_id                                   lat_long  \\\n",
       "0           0  SA2012-1-21/08/2019  (-34.914968707994774, 138.62326191400015)   \n",
       "1           1  SA2012-2-21/08/2019  (-34.945411892314496, 138.61069073873753)   \n",
       "2           2  SA2012-3-21/08/2019   (-35.348782706688546, 138.4547384995269)   \n",
       "3           3  SA2012-4-21/08/2019   (-34.91089013663556, 138.56464045685533)   \n",
       "4           4  SA2012-5-21/08/2019   (-34.90523508247097, 138.57241145966046)   \n",
       "\n",
       "   date_time_id  description_id vehicles_id casualties_id  \n",
       "0  2012-1--7-16               0        1c1b            0c  \n",
       "1   2012-1--7-9               1          2c            0c  \n",
       "2  2012-1--3-11               2        2c1i            0c  \n",
       "3  2012-1--3-10               3          2w            0c  \n",
       "4  2012-1--3-15               4        1c1w            0c  "
      ]
     },
     "execution_count": 24,
     "metadata": {},
     "output_type": "execute_result"
    }
   ],
   "source": [
    "crash.head()"
   ]
  },
  {
   "cell_type": "code",
   "execution_count": 25,
   "metadata": {},
   "outputs": [
    {
     "name": "stdout",
     "output_type": "stream",
     "text": [
      "vehicles_id has 71400 null values\n",
      "casualties_id has 212390 null values\n"
     ]
    }
   ],
   "source": [
    "for i in crash.columns: \n",
    "    if crash[i].isnull().any():\n",
    "     print('{0} has {1} null values'.format(i,crash[i].isnull().sum()))\n"
   ]
  },
  {
   "cell_type": "code",
   "execution_count": 26,
   "metadata": {},
   "outputs": [
    {
     "data": {
      "text/plain": [
       "Index(['Unnamed: 0', 'date_time_id', 'year', 'month', 'day_of_week',\n",
       "       'day_of_month', 'hour', 'approximate'],\n",
       "      dtype='object')"
      ]
     },
     "execution_count": 26,
     "metadata": {},
     "output_type": "execute_result"
    }
   ],
   "source": [
    "date.columns"
   ]
  },
  {
   "cell_type": "code",
   "execution_count": 27,
   "metadata": {},
   "outputs": [
    {
     "name": "stdout",
     "output_type": "stream",
     "text": [
      "month has 19 null values\n",
      "day_of_week has 19 null values\n",
      "day_of_month has 34703 null values\n",
      "hour has 19 null values\n"
     ]
    }
   ],
   "source": [
    "for i in date.columns: \n",
    "    if date[i].isnull().any():\n",
    "     print('{0} has {1} null values'.format(i,date[i].isnull().sum()))\n"
   ]
  },
  {
   "cell_type": "code",
   "execution_count": 28,
   "metadata": {},
   "outputs": [
    {
     "name": "stdout",
     "output_type": "stream",
     "text": [
      "<class 'pandas.core.frame.DataFrame'>\n",
      "RangeIndex: 127505 entries, 0 to 127504\n",
      "Data columns (total 8 columns):\n",
      "Unnamed: 0      127505 non-null int64\n",
      "date_time_id    127505 non-null object\n",
      "year            127505 non-null int64\n",
      "month           127486 non-null float64\n",
      "day_of_week     127486 non-null float64\n",
      "day_of_month    92802 non-null float64\n",
      "hour            127486 non-null float64\n",
      "approximate     127505 non-null bool\n",
      "dtypes: bool(1), float64(4), int64(2), object(1)\n",
      "memory usage: 6.9+ MB\n"
     ]
    }
   ],
   "source": [
    "date.info()"
   ]
  },
  {
   "cell_type": "code",
   "execution_count": 29,
   "metadata": {},
   "outputs": [
    {
     "data": {
      "text/html": [
       "<div>\n",
       "<style scoped>\n",
       "    .dataframe tbody tr th:only-of-type {\n",
       "        vertical-align: middle;\n",
       "    }\n",
       "\n",
       "    .dataframe tbody tr th {\n",
       "        vertical-align: top;\n",
       "    }\n",
       "\n",
       "    .dataframe thead th {\n",
       "        text-align: right;\n",
       "    }\n",
       "</style>\n",
       "<table border=\"1\" class=\"dataframe\">\n",
       "  <thead>\n",
       "    <tr style=\"text-align: right;\">\n",
       "      <th></th>\n",
       "      <th>Unnamed: 0</th>\n",
       "      <th>lat_long</th>\n",
       "      <th>latitude</th>\n",
       "      <th>longitude</th>\n",
       "      <th>country</th>\n",
       "      <th>state</th>\n",
       "      <th>local_government_area</th>\n",
       "      <th>statistical_area</th>\n",
       "      <th>suburb</th>\n",
       "    </tr>\n",
       "  </thead>\n",
       "  <tbody>\n",
       "    <tr>\n",
       "      <td>0</td>\n",
       "      <td>0</td>\n",
       "      <td>(-34.914968707994774, 138.62326191400015)</td>\n",
       "      <td>-34.914969</td>\n",
       "      <td>138.623262</td>\n",
       "      <td>AU</td>\n",
       "      <td>SA</td>\n",
       "      <td>CC OF NORWOOD,PAYNEHAM &amp; ST PETERS</td>\n",
       "      <td>NaN</td>\n",
       "      <td>STEPNEY</td>\n",
       "    </tr>\n",
       "    <tr>\n",
       "      <td>1</td>\n",
       "      <td>1</td>\n",
       "      <td>(-34.945411892314496, 138.61069073873753)</td>\n",
       "      <td>-34.945412</td>\n",
       "      <td>138.610691</td>\n",
       "      <td>AU</td>\n",
       "      <td>SA</td>\n",
       "      <td>CITY OF UNLEY</td>\n",
       "      <td>NaN</td>\n",
       "      <td>PARKSIDE</td>\n",
       "    </tr>\n",
       "    <tr>\n",
       "      <td>2</td>\n",
       "      <td>2</td>\n",
       "      <td>(-35.348782706688546, 138.4547384995269)</td>\n",
       "      <td>-35.348783</td>\n",
       "      <td>138.454738</td>\n",
       "      <td>AU</td>\n",
       "      <td>SA</td>\n",
       "      <td>CITY OF ONKAPARINGA</td>\n",
       "      <td>NaN</td>\n",
       "      <td>SELLICKS BEACH</td>\n",
       "    </tr>\n",
       "    <tr>\n",
       "      <td>3</td>\n",
       "      <td>3</td>\n",
       "      <td>(-34.91089013663556, 138.56464045685533)</td>\n",
       "      <td>-34.910890</td>\n",
       "      <td>138.564640</td>\n",
       "      <td>AU</td>\n",
       "      <td>SA</td>\n",
       "      <td>CITY OF CHARLES STURT</td>\n",
       "      <td>NaN</td>\n",
       "      <td>HINDMARSH</td>\n",
       "    </tr>\n",
       "    <tr>\n",
       "      <td>4</td>\n",
       "      <td>4</td>\n",
       "      <td>(-34.90523508247097, 138.57241145966046)</td>\n",
       "      <td>-34.905235</td>\n",
       "      <td>138.572411</td>\n",
       "      <td>AU</td>\n",
       "      <td>SA</td>\n",
       "      <td>CITY OF CHARLES STURT</td>\n",
       "      <td>NaN</td>\n",
       "      <td>HINDMARSH</td>\n",
       "    </tr>\n",
       "  </tbody>\n",
       "</table>\n",
       "</div>"
      ],
      "text/plain": [
       "   Unnamed: 0                                   lat_long   latitude  \\\n",
       "0           0  (-34.914968707994774, 138.62326191400015) -34.914969   \n",
       "1           1  (-34.945411892314496, 138.61069073873753) -34.945412   \n",
       "2           2   (-35.348782706688546, 138.4547384995269) -35.348783   \n",
       "3           3   (-34.91089013663556, 138.56464045685533) -34.910890   \n",
       "4           4   (-34.90523508247097, 138.57241145966046) -34.905235   \n",
       "\n",
       "    longitude country state               local_government_area  \\\n",
       "0  138.623262      AU    SA  CC OF NORWOOD,PAYNEHAM & ST PETERS   \n",
       "1  138.610691      AU    SA                       CITY OF UNLEY   \n",
       "2  138.454738      AU    SA                 CITY OF ONKAPARINGA   \n",
       "3  138.564640      AU    SA               CITY OF CHARLES STURT   \n",
       "4  138.572411      AU    SA               CITY OF CHARLES STURT   \n",
       "\n",
       "  statistical_area          suburb  \n",
       "0              NaN         STEPNEY  \n",
       "1              NaN        PARKSIDE  \n",
       "2              NaN  SELLICKS BEACH  \n",
       "3              NaN       HINDMARSH  \n",
       "4              NaN       HINDMARSH  "
      ]
     },
     "execution_count": 29,
     "metadata": {},
     "output_type": "execute_result"
    }
   ],
   "source": [
    "location.head()"
   ]
  },
  {
   "cell_type": "code",
   "execution_count": 30,
   "metadata": {},
   "outputs": [
    {
     "name": "stdout",
     "output_type": "stream",
     "text": [
      "<class 'pandas.core.frame.DataFrame'>\n",
      "RangeIndex: 922134 entries, 0 to 922133\n",
      "Data columns (total 9 columns):\n",
      "Unnamed: 0               922134 non-null int64\n",
      "lat_long                 922134 non-null object\n",
      "latitude                 844695 non-null float64\n",
      "longitude                918263 non-null float64\n",
      "country                  922134 non-null object\n",
      "state                    922134 non-null object\n",
      "local_government_area    790287 non-null object\n",
      "statistical_area         595623 non-null object\n",
      "suburb                   332073 non-null object\n",
      "dtypes: float64(2), int64(1), object(6)\n",
      "memory usage: 63.3+ MB\n"
     ]
    }
   ],
   "source": [
    "location.info()"
   ]
  },
  {
   "cell_type": "code",
   "execution_count": 31,
   "metadata": {},
   "outputs": [
    {
     "name": "stdout",
     "output_type": "stream",
     "text": [
      "latitude has 77439 null values\n",
      "longitude has 3871 null values\n",
      "local_government_area has 131847 null values\n",
      "statistical_area has 326511 null values\n",
      "suburb has 590061 null values\n"
     ]
    }
   ],
   "source": [
    "for i in location.columns: \n",
    "    if location[i].isnull().any():\n",
    "     print('{0} has {1} null values'.format(i,location[i].isnull().sum()))\n"
   ]
  },
  {
   "cell_type": "code",
   "execution_count": 32,
   "metadata": {},
   "outputs": [
    {
     "name": "stdout",
     "output_type": "stream",
     "text": [
      "speed_limit has 212404 null values\n",
      "road_position_horizontal has 402179 null values\n",
      "road_position_vertical has 402179 null values\n",
      "road_sealed has 1015406 null values\n",
      "road_wet has 1015618 null values\n",
      "weather has 150937 null values\n",
      "crash_type has 1181137 null values\n",
      "lighting has 150937 null values\n",
      "traffic_controls has 402179 null values\n",
      "drugs_alcohol has 1515825 null values\n",
      "DCA_code has 1329666 null values\n",
      "comment has 1329666 null values\n"
     ]
    }
   ],
   "source": [
    "for i in description.columns: \n",
    "    if description[i].isnull().any():\n",
    "     print('{0} has {1} null values'.format(i,description[i].isnull().sum()))\n"
   ]
  },
  {
   "cell_type": "code",
   "execution_count": 33,
   "metadata": {},
   "outputs": [],
   "source": [
    "description = description.drop('comment',axis=1)"
   ]
  },
  {
   "cell_type": "code",
   "execution_count": 34,
   "metadata": {},
   "outputs": [],
   "source": [
    "description = description.drop('DCA_code',axis=1)"
   ]
  },
  {
   "cell_type": "code",
   "execution_count": 35,
   "metadata": {},
   "outputs": [],
   "source": [
    "description = description.drop('drugs_alcohol',axis=1)"
   ]
  },
  {
   "cell_type": "code",
   "execution_count": 36,
   "metadata": {},
   "outputs": [
    {
     "data": {
      "text/plain": [
       "array(['none', 'stop_sign', 'traffic_lights', 'giveway_sign',\n",
       "       'railway_crossing', 'other', nan, 'manual_control',\n",
       "       'school_crossing', 'pedestrian_crossing'], dtype=object)"
      ]
     },
     "execution_count": 36,
     "metadata": {},
     "output_type": "execute_result"
    }
   ],
   "source": [
    "description['traffic_controls'].unique()"
   ]
  },
  {
   "cell_type": "code",
   "execution_count": 37,
   "metadata": {},
   "outputs": [],
   "source": [
    "description['traffic_controls'] = description['traffic_controls'].fillna('other')"
   ]
  },
  {
   "cell_type": "code",
   "execution_count": 38,
   "metadata": {},
   "outputs": [
    {
     "data": {
      "text/plain": [
       "array(['fine', 'unknown', 'rain', 'smoke_dust', 'high_wind', 'fog',\n",
       "       'snow', 'mist', nan, 'overcast', 'other'], dtype=object)"
      ]
     },
     "execution_count": 38,
     "metadata": {},
     "output_type": "execute_result"
    }
   ],
   "source": [
    "description['weather'].unique()"
   ]
  },
  {
   "cell_type": "code",
   "execution_count": 39,
   "metadata": {},
   "outputs": [],
   "source": [
    "description['weather'] = description['weather'].fillna('unknown')"
   ]
  },
  {
   "cell_type": "code",
   "execution_count": 40,
   "metadata": {},
   "outputs": [
    {
     "data": {
      "text/plain": [
       "array(['level', 'slope', 'unknown', 'crest', 'dip', nan], dtype=object)"
      ]
     },
     "execution_count": 40,
     "metadata": {},
     "output_type": "execute_result"
    }
   ],
   "source": [
    "description['road_position_vertical'].unique()"
   ]
  },
  {
   "cell_type": "code",
   "execution_count": 41,
   "metadata": {},
   "outputs": [],
   "source": [
    "description['road_position_vertical'] = description['road_position_vertical'].fillna('unknown')"
   ]
  },
  {
   "cell_type": "code",
   "execution_count": 42,
   "metadata": {},
   "outputs": [
    {
     "data": {
      "text/plain": [
       "array(['straight', 'curved_view_open', 'unknown', 'curved_view_obscure',\n",
       "       nan], dtype=object)"
      ]
     },
     "execution_count": 42,
     "metadata": {},
     "output_type": "execute_result"
    }
   ],
   "source": [
    "description['road_position_horizontal'].unique()"
   ]
  },
  {
   "cell_type": "code",
   "execution_count": 43,
   "metadata": {},
   "outputs": [],
   "source": [
    "description['road_position_horizontal'] = description['road_position_horizontal'].fillna('unknown')"
   ]
  },
  {
   "cell_type": "code",
   "execution_count": 44,
   "metadata": {},
   "outputs": [
    {
     "data": {
      "text/plain": [
       "array([60, 40, 100, 50, 80, 70, 90, 25, 110, 15, 10, 20, 30, 5, 75, 999,\n",
       "       888, 777, nan, '100.0', '60.0', '50.0', '90.0', '80.0', '70.0',\n",
       "       '30.0', '10.0', '20.0', '40.0', '110.0', '100 - 110 km/h',\n",
       "       '60 km/h', '0 - 50 km/h', '70 km/h', '80 - 90 km/h'], dtype=object)"
      ]
     },
     "execution_count": 44,
     "metadata": {},
     "output_type": "execute_result"
    }
   ],
   "source": [
    "description['speed_limit'].unique()"
   ]
  },
  {
   "cell_type": "code",
   "execution_count": 45,
   "metadata": {},
   "outputs": [
    {
     "data": {
      "text/plain": [
       "array([True, nan, False], dtype=object)"
      ]
     },
     "execution_count": 45,
     "metadata": {},
     "output_type": "execute_result"
    }
   ],
   "source": [
    "description['road_sealed'].unique() #road not sealed most of the time"
   ]
  },
  {
   "cell_type": "code",
   "execution_count": 46,
   "metadata": {},
   "outputs": [],
   "source": [
    "description['road_sealed'] = description['road_sealed'].fillna('False')"
   ]
  },
  {
   "cell_type": "code",
   "execution_count": 47,
   "metadata": {},
   "outputs": [
    {
     "data": {
      "text/plain": [
       "array([False, nan, True], dtype=object)"
      ]
     },
     "execution_count": 47,
     "metadata": {},
     "output_type": "execute_result"
    }
   ],
   "source": [
    "description['road_wet'].unique()"
   ]
  },
  {
   "cell_type": "code",
   "execution_count": 48,
   "metadata": {},
   "outputs": [],
   "source": [
    "description['road_wet'] = description['road_wet'].fillna('False')"
   ]
  },
  {
   "cell_type": "code",
   "execution_count": 49,
   "metadata": {},
   "outputs": [],
   "source": [
    "description['road_position_horizontal'] = description['road_position_horizontal'].fillna('unknown')"
   ]
  },
  {
   "cell_type": "code",
   "execution_count": 50,
   "metadata": {},
   "outputs": [
    {
     "data": {
      "text/plain": [
       "array(['daylight', 'darkness_not_lit', 'darkness_lit', 'dawn_dusk',\n",
       "       'unknown', 'other', nan], dtype=object)"
      ]
     },
     "execution_count": 50,
     "metadata": {},
     "output_type": "execute_result"
    }
   ],
   "source": [
    "description['lighting'].unique()"
   ]
  },
  {
   "cell_type": "code",
   "execution_count": 51,
   "metadata": {},
   "outputs": [],
   "source": [
    "description['lighting'] = description['lighting'].fillna('unknown')"
   ]
  },
  {
   "cell_type": "code",
   "execution_count": 52,
   "metadata": {},
   "outputs": [
    {
     "data": {
      "text/plain": [
       "array(['Right Angle', 'Hit Parked Vehicle', 'Other', 'Rear End',\n",
       "       'Side Swipe', 'Right Turn', 'Head On', 'Hit Pedestrian',\n",
       "       'Hit Fixed Object', 'Roll Over', 'Left Road - Out of Control',\n",
       "       'Hit Object on Road', 'Hit Animal', 'Collision with vehicle',\n",
       "       'Fall from or in moving vehicle', 'Collision with a fixed object',\n",
       "       'Struck Pedestrian', 'collision with some other object',\n",
       "       'Vehicle overturned (no collision)',\n",
       "       'No collision and no object struck', 'Struck animal',\n",
       "       'Other accident', nan, 'Non Collision Involving Animal',\n",
       "       'Hit Animal Involving Animal', 'Rear End Involving Parking',\n",
       "       'Rear End Involving Overtaking', 'Right Angle Involving Parking',\n",
       "       'Hit Pedestrian Involving Pedestrian',\n",
       "       'Sideswipe Same Dirn Involving Overtaking',\n",
       "       'Right Turn Thru Entering / Leaving Driveway',\n",
       "       'Right Angle Entering / Leaving Driveway',\n",
       "       'Hit Object Involving Animal',\n",
       "       'Rear End Entering / Leaving Driveway',\n",
       "       'Rear End Involving Pedestrian',\n",
       "       'Sideswipe Same Dirn Involving Parking',\n",
       "       'Hit Object Involving Parking',\n",
       "       'Sideswipe Same Dirn Entering / Leaving Driveway',\n",
       "       'Hit Object Entering / Leaving Driveway',\n",
       "       'Rear End Involving Animal', 'Right Angle Involving Overtaking',\n",
       "       'Non Collision Entering / Leaving Driveway',\n",
       "       'Hit Pedestrian Involving Parking',\n",
       "       'Hit Object Involving Pedestrian',\n",
       "       'Hit Pedestrian Involving Overtaking',\n",
       "       'Sideswipe Same Dirn Involving Animal',\n",
       "       'Right Angle Involving Pedestrian',\n",
       "       'Right Turn Thru Involving Pedestrian',\n",
       "       'Right Turn Thru Involving Parking',\n",
       "       'Non Collision Involving Overtaking',\n",
       "       'Sideswipe Same Dirn Involving Pedestrian',\n",
       "       'Head On Involving Overtaking', 'Non Collision Involving Parking',\n",
       "       'Head On Entering / Leaving Driveway', 'Head On Involving Animal',\n",
       "       'Non Collision Involving Pedestrian', 'Head On Involving Parking',\n",
       "       'Right Turn Thru Involving Overtaking',\n",
       "       'Hit Pedestrian Involving Animal', 'Hit Animal Involving Parking',\n",
       "       'Head On Involving Pedestrian'], dtype=object)"
      ]
     },
     "execution_count": 52,
     "metadata": {},
     "output_type": "execute_result"
    }
   ],
   "source": [
    "description['crash_type'].unique()"
   ]
  },
  {
   "cell_type": "code",
   "execution_count": 53,
   "metadata": {},
   "outputs": [],
   "source": [
    "description['crash_type'] = description['crash_type'].fillna('Other')"
   ]
  },
  {
   "cell_type": "code",
   "execution_count": 54,
   "metadata": {},
   "outputs": [],
   "source": [
    "description = description.dropna()"
   ]
  },
  {
   "cell_type": "code",
   "execution_count": 55,
   "metadata": {},
   "outputs": [
    {
     "name": "stdout",
     "output_type": "stream",
     "text": [
      "<class 'pandas.core.frame.DataFrame'>\n",
      "Int64Index: 1307051 entries, 0 to 1307064\n",
      "Data columns (total 14 columns):\n",
      "Unnamed: 0                  1307051 non-null int64\n",
      "description_id              1307051 non-null int64\n",
      "severity                    1307051 non-null object\n",
      "speed_limit                 1307051 non-null object\n",
      "midblock                    1307051 non-null bool\n",
      "intersection                1307051 non-null bool\n",
      "road_position_horizontal    1307051 non-null object\n",
      "road_position_vertical      1307051 non-null object\n",
      "road_sealed                 1307051 non-null object\n",
      "road_wet                    1307051 non-null object\n",
      "weather                     1307051 non-null object\n",
      "crash_type                  1307051 non-null object\n",
      "lighting                    1307051 non-null object\n",
      "traffic_controls            1307051 non-null object\n",
      "dtypes: bool(2), int64(2), object(10)\n",
      "memory usage: 132.1+ MB\n"
     ]
    }
   ],
   "source": [
    "description.info()"
   ]
  },
  {
   "cell_type": "code",
   "execution_count": 56,
   "metadata": {},
   "outputs": [
    {
     "data": {
      "text/plain": [
       "Index(['Unnamed: 0', 'lat_long', 'latitude', 'longitude', 'country', 'state',\n",
       "       'local_government_area', 'statistical_area', 'suburb'],\n",
       "      dtype='object')"
      ]
     },
     "execution_count": 56,
     "metadata": {},
     "output_type": "execute_result"
    }
   ],
   "source": [
    "location.columns"
   ]
  },
  {
   "cell_type": "code",
   "execution_count": 57,
   "metadata": {},
   "outputs": [
    {
     "name": "stdout",
     "output_type": "stream",
     "text": [
      "latitude has 77439 null values\n",
      "longitude has 3871 null values\n",
      "local_government_area has 131847 null values\n",
      "statistical_area has 326511 null values\n",
      "suburb has 590061 null values\n"
     ]
    }
   ],
   "source": [
    "for i in location.columns: \n",
    "    if location[i].isnull().any():\n",
    "     print('{0} has {1} null values'.format(i,location[i].isnull().sum()))\n"
   ]
  },
  {
   "cell_type": "code",
   "execution_count": 58,
   "metadata": {},
   "outputs": [
    {
     "data": {
      "text/plain": [
       "Index(['Unnamed: 0', 'vehicles_id', 'animals', 'car_sedan', 'car_utility',\n",
       "       'car_van', 'car_4x4', 'car_station_wagon', 'motor_cycle', 'truck_small',\n",
       "       'truck_large', 'bus', 'taxi', 'bicycle', 'scooter', 'pedestrian',\n",
       "       'inanimate', 'train', 'tram', 'vehicle_other'],\n",
       "      dtype='object')"
      ]
     },
     "execution_count": 58,
     "metadata": {},
     "output_type": "execute_result"
    }
   ],
   "source": [
    "vehicles.columns"
   ]
  },
  {
   "cell_type": "code",
   "execution_count": 59,
   "metadata": {},
   "outputs": [
    {
     "name": "stdout",
     "output_type": "stream",
     "text": [
      "vehicles_id has 2 null values\n",
      "animals has 1 null values\n",
      "car_sedan has 1 null values\n",
      "car_utility has 1 null values\n",
      "car_van has 1 null values\n",
      "car_4x4 has 1 null values\n",
      "car_station_wagon has 1 null values\n",
      "motor_cycle has 1 null values\n",
      "truck_small has 1 null values\n",
      "truck_large has 1 null values\n",
      "bus has 1 null values\n",
      "taxi has 1 null values\n",
      "bicycle has 1 null values\n",
      "scooter has 1 null values\n",
      "pedestrian has 1 null values\n",
      "inanimate has 1 null values\n",
      "train has 1 null values\n",
      "tram has 1 null values\n",
      "vehicle_other has 1 null values\n"
     ]
    }
   ],
   "source": [
    "for i in vehicles.columns: \n",
    "    if vehicles[i].isnull().any():\n",
    "     print('{0} has {1} null values'.format(i,vehicles[i].isnull().sum()))\n"
   ]
  },
  {
   "cell_type": "code",
   "execution_count": 60,
   "metadata": {},
   "outputs": [
    {
     "name": "stdout",
     "output_type": "stream",
     "text": [
      "<class 'pandas.core.frame.DataFrame'>\n",
      "RangeIndex: 2434 entries, 0 to 2433\n",
      "Data columns (total 20 columns):\n",
      "Unnamed: 0           2434 non-null int64\n",
      "vehicles_id          2432 non-null object\n",
      "animals              2433 non-null float64\n",
      "car_sedan            2433 non-null float64\n",
      "car_utility          2433 non-null float64\n",
      "car_van              2433 non-null float64\n",
      "car_4x4              2433 non-null float64\n",
      "car_station_wagon    2433 non-null float64\n",
      "motor_cycle          2433 non-null float64\n",
      "truck_small          2433 non-null float64\n",
      "truck_large          2433 non-null float64\n",
      "bus                  2433 non-null float64\n",
      "taxi                 2433 non-null float64\n",
      "bicycle              2433 non-null float64\n",
      "scooter              2433 non-null float64\n",
      "pedestrian           2433 non-null float64\n",
      "inanimate            2433 non-null float64\n",
      "train                2433 non-null float64\n",
      "tram                 2433 non-null float64\n",
      "vehicle_other        2433 non-null float64\n",
      "dtypes: float64(18), int64(1), object(1)\n",
      "memory usage: 380.4+ KB\n"
     ]
    }
   ],
   "source": [
    "vehicles.info()"
   ]
  },
  {
   "cell_type": "code",
   "execution_count": 61,
   "metadata": {},
   "outputs": [
    {
     "data": {
      "text/plain": [
       "Index(['Unnamed: 0', 'casualties_id', 'casualties', 'fatalities',\n",
       "       'serious_injuries', 'minor_injuries'],\n",
       "      dtype='object')"
      ]
     },
     "execution_count": 61,
     "metadata": {},
     "output_type": "execute_result"
    }
   ],
   "source": [
    "casualities.columns"
   ]
  },
  {
   "cell_type": "code",
   "execution_count": 62,
   "metadata": {},
   "outputs": [
    {
     "data": {
      "text/plain": [
       "Index(['Unnamed: 0', 'crash_id', 'lat_long', 'date_time_id', 'description_id',\n",
       "       'vehicles_id', 'casualties_id'],\n",
       "      dtype='object')"
      ]
     },
     "execution_count": 62,
     "metadata": {},
     "output_type": "execute_result"
    }
   ],
   "source": [
    "crash.columns"
   ]
  },
  {
   "cell_type": "code",
   "execution_count": 63,
   "metadata": {},
   "outputs": [
    {
     "data": {
      "text/plain": [
       "Index(['Unnamed: 0', 'date_time_id', 'year', 'month', 'day_of_week',\n",
       "       'day_of_month', 'hour', 'approximate'],\n",
       "      dtype='object')"
      ]
     },
     "execution_count": 63,
     "metadata": {},
     "output_type": "execute_result"
    }
   ],
   "source": [
    "date.columns"
   ]
  },
  {
   "cell_type": "code",
   "execution_count": 64,
   "metadata": {},
   "outputs": [
    {
     "data": {
      "text/plain": [
       "Index(['Unnamed: 0', 'description_id', 'severity', 'speed_limit', 'midblock',\n",
       "       'intersection', 'road_position_horizontal', 'road_position_vertical',\n",
       "       'road_sealed', 'road_wet', 'weather', 'crash_type', 'lighting',\n",
       "       'traffic_controls'],\n",
       "      dtype='object')"
      ]
     },
     "execution_count": 64,
     "metadata": {},
     "output_type": "execute_result"
    }
   ],
   "source": [
    "description.columns"
   ]
  },
  {
   "cell_type": "code",
   "execution_count": 65,
   "metadata": {},
   "outputs": [
    {
     "data": {
      "text/plain": [
       "Index(['Unnamed: 0', 'lat_long', 'latitude', 'longitude', 'country', 'state',\n",
       "       'local_government_area', 'statistical_area', 'suburb'],\n",
       "      dtype='object')"
      ]
     },
     "execution_count": 65,
     "metadata": {},
     "output_type": "execute_result"
    }
   ],
   "source": [
    "location.columns"
   ]
  },
  {
   "cell_type": "code",
   "execution_count": 66,
   "metadata": {},
   "outputs": [
    {
     "data": {
      "text/plain": [
       "Index(['Unnamed: 0', 'vehicles_id', 'animals', 'car_sedan', 'car_utility',\n",
       "       'car_van', 'car_4x4', 'car_station_wagon', 'motor_cycle', 'truck_small',\n",
       "       'truck_large', 'bus', 'taxi', 'bicycle', 'scooter', 'pedestrian',\n",
       "       'inanimate', 'train', 'tram', 'vehicle_other'],\n",
       "      dtype='object')"
      ]
     },
     "execution_count": 66,
     "metadata": {},
     "output_type": "execute_result"
    }
   ],
   "source": [
    "vehicles.columns"
   ]
  },
  {
   "cell_type": "code",
   "execution_count": null,
   "metadata": {},
   "outputs": [],
   "source": []
  },
  {
   "cell_type": "code",
   "execution_count": 67,
   "metadata": {},
   "outputs": [],
   "source": [
    "location = location.drop('statistical_area',axis=1)"
   ]
  },
  {
   "cell_type": "code",
   "execution_count": 68,
   "metadata": {},
   "outputs": [],
   "source": [
    "location = location.drop('suburb',axis=1)"
   ]
  },
  {
   "cell_type": "code",
   "execution_count": 69,
   "metadata": {},
   "outputs": [],
   "source": [
    "location = location.drop('lat_long',axis=1)"
   ]
  },
  {
   "cell_type": "code",
   "execution_count": 70,
   "metadata": {},
   "outputs": [],
   "source": [
    "location = location.drop('local_government_area',axis=1)"
   ]
  },
  {
   "cell_type": "code",
   "execution_count": 71,
   "metadata": {},
   "outputs": [],
   "source": [
    "location=location.dropna()"
   ]
  },
  {
   "cell_type": "code",
   "execution_count": 72,
   "metadata": {},
   "outputs": [
    {
     "data": {
      "text/html": [
       "<div>\n",
       "<style scoped>\n",
       "    .dataframe tbody tr th:only-of-type {\n",
       "        vertical-align: middle;\n",
       "    }\n",
       "\n",
       "    .dataframe tbody tr th {\n",
       "        vertical-align: top;\n",
       "    }\n",
       "\n",
       "    .dataframe thead th {\n",
       "        text-align: right;\n",
       "    }\n",
       "</style>\n",
       "<table border=\"1\" class=\"dataframe\">\n",
       "  <thead>\n",
       "    <tr style=\"text-align: right;\">\n",
       "      <th></th>\n",
       "      <th>Unnamed: 0</th>\n",
       "      <th>description_id</th>\n",
       "      <th>severity</th>\n",
       "      <th>speed_limit</th>\n",
       "      <th>midblock</th>\n",
       "      <th>intersection</th>\n",
       "      <th>road_position_horizontal</th>\n",
       "      <th>road_position_vertical</th>\n",
       "      <th>road_sealed</th>\n",
       "      <th>road_wet</th>\n",
       "      <th>weather</th>\n",
       "      <th>crash_type</th>\n",
       "      <th>lighting</th>\n",
       "      <th>traffic_controls</th>\n",
       "    </tr>\n",
       "  </thead>\n",
       "  <tbody>\n",
       "    <tr>\n",
       "      <td>1307060</td>\n",
       "      <td>1307060</td>\n",
       "      <td>1307060</td>\n",
       "      <td>property_damage</td>\n",
       "      <td>60 km/h</td>\n",
       "      <td>True</td>\n",
       "      <td>False</td>\n",
       "      <td>straight</td>\n",
       "      <td>level</td>\n",
       "      <td>True</td>\n",
       "      <td>True</td>\n",
       "      <td>rain</td>\n",
       "      <td>Other</td>\n",
       "      <td>daylight</td>\n",
       "      <td>none</td>\n",
       "    </tr>\n",
       "    <tr>\n",
       "      <td>1307061</td>\n",
       "      <td>1307061</td>\n",
       "      <td>1307061</td>\n",
       "      <td>serious_injury</td>\n",
       "      <td>60 km/h</td>\n",
       "      <td>True</td>\n",
       "      <td>False</td>\n",
       "      <td>straight</td>\n",
       "      <td>level</td>\n",
       "      <td>True</td>\n",
       "      <td>False</td>\n",
       "      <td>fine</td>\n",
       "      <td>Other</td>\n",
       "      <td>daylight</td>\n",
       "      <td>none</td>\n",
       "    </tr>\n",
       "    <tr>\n",
       "      <td>1307062</td>\n",
       "      <td>1307062</td>\n",
       "      <td>1307062</td>\n",
       "      <td>serious_injury</td>\n",
       "      <td>100 - 110 km/h</td>\n",
       "      <td>True</td>\n",
       "      <td>False</td>\n",
       "      <td>straight</td>\n",
       "      <td>crest</td>\n",
       "      <td>True</td>\n",
       "      <td>False</td>\n",
       "      <td>fine</td>\n",
       "      <td>Other</td>\n",
       "      <td>daylight</td>\n",
       "      <td>none</td>\n",
       "    </tr>\n",
       "    <tr>\n",
       "      <td>1307063</td>\n",
       "      <td>1307063</td>\n",
       "      <td>1307063</td>\n",
       "      <td>minor_injury</td>\n",
       "      <td>100 - 110 km/h</td>\n",
       "      <td>True</td>\n",
       "      <td>False</td>\n",
       "      <td>curved_view_open</td>\n",
       "      <td>slope</td>\n",
       "      <td>True</td>\n",
       "      <td>False</td>\n",
       "      <td>fine</td>\n",
       "      <td>Other</td>\n",
       "      <td>daylight</td>\n",
       "      <td>none</td>\n",
       "    </tr>\n",
       "    <tr>\n",
       "      <td>1307064</td>\n",
       "      <td>1307064</td>\n",
       "      <td>1307064</td>\n",
       "      <td>serious_injury</td>\n",
       "      <td>60 km/h</td>\n",
       "      <td>False</td>\n",
       "      <td>True</td>\n",
       "      <td>straight</td>\n",
       "      <td>dip</td>\n",
       "      <td>True</td>\n",
       "      <td>False</td>\n",
       "      <td>fine</td>\n",
       "      <td>Other</td>\n",
       "      <td>daylight</td>\n",
       "      <td>none</td>\n",
       "    </tr>\n",
       "  </tbody>\n",
       "</table>\n",
       "</div>"
      ],
      "text/plain": [
       "         Unnamed: 0  description_id         severity     speed_limit  \\\n",
       "1307060     1307060         1307060  property_damage         60 km/h   \n",
       "1307061     1307061         1307061   serious_injury         60 km/h   \n",
       "1307062     1307062         1307062   serious_injury  100 - 110 km/h   \n",
       "1307063     1307063         1307063     minor_injury  100 - 110 km/h   \n",
       "1307064     1307064         1307064   serious_injury         60 km/h   \n",
       "\n",
       "         midblock  intersection road_position_horizontal  \\\n",
       "1307060      True         False                 straight   \n",
       "1307061      True         False                 straight   \n",
       "1307062      True         False                 straight   \n",
       "1307063      True         False         curved_view_open   \n",
       "1307064     False          True                 straight   \n",
       "\n",
       "        road_position_vertical road_sealed road_wet weather crash_type  \\\n",
       "1307060                  level        True     True    rain      Other   \n",
       "1307061                  level        True    False    fine      Other   \n",
       "1307062                  crest        True    False    fine      Other   \n",
       "1307063                  slope        True    False    fine      Other   \n",
       "1307064                    dip        True    False    fine      Other   \n",
       "\n",
       "         lighting traffic_controls  \n",
       "1307060  daylight             none  \n",
       "1307061  daylight             none  \n",
       "1307062  daylight             none  \n",
       "1307063  daylight             none  \n",
       "1307064  daylight             none  "
      ]
     },
     "execution_count": 72,
     "metadata": {},
     "output_type": "execute_result"
    }
   ],
   "source": [
    "description.tail()"
   ]
  },
  {
   "cell_type": "code",
   "execution_count": 73,
   "metadata": {},
   "outputs": [
    {
     "data": {
      "text/html": [
       "<div>\n",
       "<style scoped>\n",
       "    .dataframe tbody tr th:only-of-type {\n",
       "        vertical-align: middle;\n",
       "    }\n",
       "\n",
       "    .dataframe tbody tr th {\n",
       "        vertical-align: top;\n",
       "    }\n",
       "\n",
       "    .dataframe thead th {\n",
       "        text-align: right;\n",
       "    }\n",
       "</style>\n",
       "<table border=\"1\" class=\"dataframe\">\n",
       "  <thead>\n",
       "    <tr style=\"text-align: right;\">\n",
       "      <th></th>\n",
       "      <th>Unnamed: 0</th>\n",
       "      <th>latitude</th>\n",
       "      <th>longitude</th>\n",
       "      <th>country</th>\n",
       "      <th>state</th>\n",
       "    </tr>\n",
       "  </thead>\n",
       "  <tbody>\n",
       "    <tr>\n",
       "      <td>922129</td>\n",
       "      <td>1519450</td>\n",
       "      <td>-35.322395</td>\n",
       "      <td>149.122591</td>\n",
       "      <td>AU</td>\n",
       "      <td>ACT</td>\n",
       "    </tr>\n",
       "    <tr>\n",
       "      <td>922130</td>\n",
       "      <td>1519451</td>\n",
       "      <td>-35.257719</td>\n",
       "      <td>149.090351</td>\n",
       "      <td>AU</td>\n",
       "      <td>ACT</td>\n",
       "    </tr>\n",
       "    <tr>\n",
       "      <td>922131</td>\n",
       "      <td>1519452</td>\n",
       "      <td>-35.186379</td>\n",
       "      <td>149.119175</td>\n",
       "      <td>AU</td>\n",
       "      <td>ACT</td>\n",
       "    </tr>\n",
       "    <tr>\n",
       "      <td>922132</td>\n",
       "      <td>1519453</td>\n",
       "      <td>-35.352057</td>\n",
       "      <td>149.085208</td>\n",
       "      <td>AU</td>\n",
       "      <td>ACT</td>\n",
       "    </tr>\n",
       "    <tr>\n",
       "      <td>922133</td>\n",
       "      <td>1519454</td>\n",
       "      <td>-35.263290</td>\n",
       "      <td>149.140344</td>\n",
       "      <td>AU</td>\n",
       "      <td>ACT</td>\n",
       "    </tr>\n",
       "  </tbody>\n",
       "</table>\n",
       "</div>"
      ],
      "text/plain": [
       "        Unnamed: 0   latitude   longitude country state\n",
       "922129     1519450 -35.322395  149.122591      AU   ACT\n",
       "922130     1519451 -35.257719  149.090351      AU   ACT\n",
       "922131     1519452 -35.186379  149.119175      AU   ACT\n",
       "922132     1519453 -35.352057  149.085208      AU   ACT\n",
       "922133     1519454 -35.263290  149.140344      AU   ACT"
      ]
     },
     "execution_count": 73,
     "metadata": {},
     "output_type": "execute_result"
    }
   ],
   "source": [
    "location.tail()"
   ]
  },
  {
   "cell_type": "code",
   "execution_count": 74,
   "metadata": {},
   "outputs": [],
   "source": [
    "description['C'] = np.arange(len(description))"
   ]
  },
  {
   "cell_type": "code",
   "execution_count": 75,
   "metadata": {},
   "outputs": [],
   "source": [
    "location['C'] = np.arange(len(location))"
   ]
  },
  {
   "cell_type": "code",
   "execution_count": 76,
   "metadata": {},
   "outputs": [],
   "source": [
    "merged_left = pd.merge(left=description, right=location, how='inner', left_on='C', right_on='C')"
   ]
  },
  {
   "cell_type": "code",
   "execution_count": 77,
   "metadata": {},
   "outputs": [
    {
     "data": {
      "text/html": [
       "<div>\n",
       "<style scoped>\n",
       "    .dataframe tbody tr th:only-of-type {\n",
       "        vertical-align: middle;\n",
       "    }\n",
       "\n",
       "    .dataframe tbody tr th {\n",
       "        vertical-align: top;\n",
       "    }\n",
       "\n",
       "    .dataframe thead th {\n",
       "        text-align: right;\n",
       "    }\n",
       "</style>\n",
       "<table border=\"1\" class=\"dataframe\">\n",
       "  <thead>\n",
       "    <tr style=\"text-align: right;\">\n",
       "      <th></th>\n",
       "      <th>Unnamed: 0_x</th>\n",
       "      <th>description_id</th>\n",
       "      <th>severity</th>\n",
       "      <th>speed_limit</th>\n",
       "      <th>midblock</th>\n",
       "      <th>intersection</th>\n",
       "      <th>road_position_horizontal</th>\n",
       "      <th>road_position_vertical</th>\n",
       "      <th>road_sealed</th>\n",
       "      <th>road_wet</th>\n",
       "      <th>weather</th>\n",
       "      <th>crash_type</th>\n",
       "      <th>lighting</th>\n",
       "      <th>traffic_controls</th>\n",
       "      <th>C</th>\n",
       "      <th>Unnamed: 0_y</th>\n",
       "      <th>latitude</th>\n",
       "      <th>longitude</th>\n",
       "      <th>country</th>\n",
       "      <th>state</th>\n",
       "    </tr>\n",
       "  </thead>\n",
       "  <tbody>\n",
       "    <tr>\n",
       "      <td>0</td>\n",
       "      <td>0</td>\n",
       "      <td>0</td>\n",
       "      <td>property_damage</td>\n",
       "      <td>60</td>\n",
       "      <td>True</td>\n",
       "      <td>False</td>\n",
       "      <td>straight</td>\n",
       "      <td>level</td>\n",
       "      <td>True</td>\n",
       "      <td>False</td>\n",
       "      <td>fine</td>\n",
       "      <td>Right Angle</td>\n",
       "      <td>daylight</td>\n",
       "      <td>none</td>\n",
       "      <td>0</td>\n",
       "      <td>0</td>\n",
       "      <td>-34.914969</td>\n",
       "      <td>138.623262</td>\n",
       "      <td>AU</td>\n",
       "      <td>SA</td>\n",
       "    </tr>\n",
       "    <tr>\n",
       "      <td>1</td>\n",
       "      <td>1</td>\n",
       "      <td>1</td>\n",
       "      <td>property_damage</td>\n",
       "      <td>40</td>\n",
       "      <td>True</td>\n",
       "      <td>False</td>\n",
       "      <td>straight</td>\n",
       "      <td>level</td>\n",
       "      <td>True</td>\n",
       "      <td>False</td>\n",
       "      <td>fine</td>\n",
       "      <td>Hit Parked Vehicle</td>\n",
       "      <td>daylight</td>\n",
       "      <td>none</td>\n",
       "      <td>1</td>\n",
       "      <td>1</td>\n",
       "      <td>-34.945412</td>\n",
       "      <td>138.610691</td>\n",
       "      <td>AU</td>\n",
       "      <td>SA</td>\n",
       "    </tr>\n",
       "    <tr>\n",
       "      <td>2</td>\n",
       "      <td>2</td>\n",
       "      <td>2</td>\n",
       "      <td>property_damage</td>\n",
       "      <td>100</td>\n",
       "      <td>True</td>\n",
       "      <td>False</td>\n",
       "      <td>straight</td>\n",
       "      <td>slope</td>\n",
       "      <td>True</td>\n",
       "      <td>False</td>\n",
       "      <td>fine</td>\n",
       "      <td>Other</td>\n",
       "      <td>daylight</td>\n",
       "      <td>none</td>\n",
       "      <td>2</td>\n",
       "      <td>2</td>\n",
       "      <td>-35.348783</td>\n",
       "      <td>138.454738</td>\n",
       "      <td>AU</td>\n",
       "      <td>SA</td>\n",
       "    </tr>\n",
       "    <tr>\n",
       "      <td>3</td>\n",
       "      <td>3</td>\n",
       "      <td>3</td>\n",
       "      <td>property_damage</td>\n",
       "      <td>60</td>\n",
       "      <td>False</td>\n",
       "      <td>True</td>\n",
       "      <td>straight</td>\n",
       "      <td>level</td>\n",
       "      <td>True</td>\n",
       "      <td>False</td>\n",
       "      <td>fine</td>\n",
       "      <td>Rear End</td>\n",
       "      <td>daylight</td>\n",
       "      <td>stop_sign</td>\n",
       "      <td>3</td>\n",
       "      <td>3</td>\n",
       "      <td>-34.910890</td>\n",
       "      <td>138.564640</td>\n",
       "      <td>AU</td>\n",
       "      <td>SA</td>\n",
       "    </tr>\n",
       "    <tr>\n",
       "      <td>4</td>\n",
       "      <td>4</td>\n",
       "      <td>4</td>\n",
       "      <td>property_damage</td>\n",
       "      <td>60</td>\n",
       "      <td>False</td>\n",
       "      <td>True</td>\n",
       "      <td>straight</td>\n",
       "      <td>level</td>\n",
       "      <td>True</td>\n",
       "      <td>False</td>\n",
       "      <td>fine</td>\n",
       "      <td>Rear End</td>\n",
       "      <td>daylight</td>\n",
       "      <td>traffic_lights</td>\n",
       "      <td>4</td>\n",
       "      <td>4</td>\n",
       "      <td>-34.905235</td>\n",
       "      <td>138.572411</td>\n",
       "      <td>AU</td>\n",
       "      <td>SA</td>\n",
       "    </tr>\n",
       "  </tbody>\n",
       "</table>\n",
       "</div>"
      ],
      "text/plain": [
       "   Unnamed: 0_x  description_id         severity speed_limit  midblock  \\\n",
       "0             0               0  property_damage          60      True   \n",
       "1             1               1  property_damage          40      True   \n",
       "2             2               2  property_damage         100      True   \n",
       "3             3               3  property_damage          60     False   \n",
       "4             4               4  property_damage          60     False   \n",
       "\n",
       "   intersection road_position_horizontal road_position_vertical road_sealed  \\\n",
       "0         False                 straight                  level        True   \n",
       "1         False                 straight                  level        True   \n",
       "2         False                 straight                  slope        True   \n",
       "3          True                 straight                  level        True   \n",
       "4          True                 straight                  level        True   \n",
       "\n",
       "  road_wet weather          crash_type  lighting traffic_controls  C  \\\n",
       "0    False    fine         Right Angle  daylight             none  0   \n",
       "1    False    fine  Hit Parked Vehicle  daylight             none  1   \n",
       "2    False    fine               Other  daylight             none  2   \n",
       "3    False    fine            Rear End  daylight        stop_sign  3   \n",
       "4    False    fine            Rear End  daylight   traffic_lights  4   \n",
       "\n",
       "   Unnamed: 0_y   latitude   longitude country state  \n",
       "0             0 -34.914969  138.623262      AU    SA  \n",
       "1             1 -34.945412  138.610691      AU    SA  \n",
       "2             2 -35.348783  138.454738      AU    SA  \n",
       "3             3 -34.910890  138.564640      AU    SA  \n",
       "4             4 -34.905235  138.572411      AU    SA  "
      ]
     },
     "execution_count": 77,
     "metadata": {},
     "output_type": "execute_result"
    }
   ],
   "source": [
    "merged_left.head()"
   ]
  },
  {
   "cell_type": "code",
   "execution_count": 78,
   "metadata": {},
   "outputs": [],
   "source": [
    "for i in merged_left.columns: \n",
    "    if merged_left[i].isnull().any():\n",
    "     print('{0} has {1} null values'.format(i,merged_left[i].isnull().sum()))\n"
   ]
  },
  {
   "cell_type": "code",
   "execution_count": 79,
   "metadata": {},
   "outputs": [],
   "source": [
    "merged_left = merged_left.drop('C',axis=1)"
   ]
  },
  {
   "cell_type": "code",
   "execution_count": 80,
   "metadata": {},
   "outputs": [],
   "source": [
    "merged_left = merged_left.drop(['Unnamed: 0_x','description_id','Unnamed: 0_y'],axis=1)\n"
   ]
  },
  {
   "cell_type": "code",
   "execution_count": 81,
   "metadata": {},
   "outputs": [
    {
     "data": {
      "text/html": [
       "<div>\n",
       "<style scoped>\n",
       "    .dataframe tbody tr th:only-of-type {\n",
       "        vertical-align: middle;\n",
       "    }\n",
       "\n",
       "    .dataframe tbody tr th {\n",
       "        vertical-align: top;\n",
       "    }\n",
       "\n",
       "    .dataframe thead th {\n",
       "        text-align: right;\n",
       "    }\n",
       "</style>\n",
       "<table border=\"1\" class=\"dataframe\">\n",
       "  <thead>\n",
       "    <tr style=\"text-align: right;\">\n",
       "      <th></th>\n",
       "      <th>severity</th>\n",
       "      <th>speed_limit</th>\n",
       "      <th>midblock</th>\n",
       "      <th>intersection</th>\n",
       "      <th>road_position_horizontal</th>\n",
       "      <th>road_position_vertical</th>\n",
       "      <th>road_sealed</th>\n",
       "      <th>road_wet</th>\n",
       "      <th>weather</th>\n",
       "      <th>crash_type</th>\n",
       "      <th>lighting</th>\n",
       "      <th>traffic_controls</th>\n",
       "      <th>latitude</th>\n",
       "      <th>longitude</th>\n",
       "      <th>country</th>\n",
       "      <th>state</th>\n",
       "    </tr>\n",
       "  </thead>\n",
       "  <tbody>\n",
       "    <tr>\n",
       "      <td>0</td>\n",
       "      <td>property_damage</td>\n",
       "      <td>60</td>\n",
       "      <td>True</td>\n",
       "      <td>False</td>\n",
       "      <td>straight</td>\n",
       "      <td>level</td>\n",
       "      <td>True</td>\n",
       "      <td>False</td>\n",
       "      <td>fine</td>\n",
       "      <td>Right Angle</td>\n",
       "      <td>daylight</td>\n",
       "      <td>none</td>\n",
       "      <td>-34.914969</td>\n",
       "      <td>138.623262</td>\n",
       "      <td>AU</td>\n",
       "      <td>SA</td>\n",
       "    </tr>\n",
       "    <tr>\n",
       "      <td>1</td>\n",
       "      <td>property_damage</td>\n",
       "      <td>40</td>\n",
       "      <td>True</td>\n",
       "      <td>False</td>\n",
       "      <td>straight</td>\n",
       "      <td>level</td>\n",
       "      <td>True</td>\n",
       "      <td>False</td>\n",
       "      <td>fine</td>\n",
       "      <td>Hit Parked Vehicle</td>\n",
       "      <td>daylight</td>\n",
       "      <td>none</td>\n",
       "      <td>-34.945412</td>\n",
       "      <td>138.610691</td>\n",
       "      <td>AU</td>\n",
       "      <td>SA</td>\n",
       "    </tr>\n",
       "    <tr>\n",
       "      <td>2</td>\n",
       "      <td>property_damage</td>\n",
       "      <td>100</td>\n",
       "      <td>True</td>\n",
       "      <td>False</td>\n",
       "      <td>straight</td>\n",
       "      <td>slope</td>\n",
       "      <td>True</td>\n",
       "      <td>False</td>\n",
       "      <td>fine</td>\n",
       "      <td>Other</td>\n",
       "      <td>daylight</td>\n",
       "      <td>none</td>\n",
       "      <td>-35.348783</td>\n",
       "      <td>138.454738</td>\n",
       "      <td>AU</td>\n",
       "      <td>SA</td>\n",
       "    </tr>\n",
       "    <tr>\n",
       "      <td>3</td>\n",
       "      <td>property_damage</td>\n",
       "      <td>60</td>\n",
       "      <td>False</td>\n",
       "      <td>True</td>\n",
       "      <td>straight</td>\n",
       "      <td>level</td>\n",
       "      <td>True</td>\n",
       "      <td>False</td>\n",
       "      <td>fine</td>\n",
       "      <td>Rear End</td>\n",
       "      <td>daylight</td>\n",
       "      <td>stop_sign</td>\n",
       "      <td>-34.910890</td>\n",
       "      <td>138.564640</td>\n",
       "      <td>AU</td>\n",
       "      <td>SA</td>\n",
       "    </tr>\n",
       "    <tr>\n",
       "      <td>4</td>\n",
       "      <td>property_damage</td>\n",
       "      <td>60</td>\n",
       "      <td>False</td>\n",
       "      <td>True</td>\n",
       "      <td>straight</td>\n",
       "      <td>level</td>\n",
       "      <td>True</td>\n",
       "      <td>False</td>\n",
       "      <td>fine</td>\n",
       "      <td>Rear End</td>\n",
       "      <td>daylight</td>\n",
       "      <td>traffic_lights</td>\n",
       "      <td>-34.905235</td>\n",
       "      <td>138.572411</td>\n",
       "      <td>AU</td>\n",
       "      <td>SA</td>\n",
       "    </tr>\n",
       "  </tbody>\n",
       "</table>\n",
       "</div>"
      ],
      "text/plain": [
       "          severity speed_limit  midblock  intersection  \\\n",
       "0  property_damage          60      True         False   \n",
       "1  property_damage          40      True         False   \n",
       "2  property_damage         100      True         False   \n",
       "3  property_damage          60     False          True   \n",
       "4  property_damage          60     False          True   \n",
       "\n",
       "  road_position_horizontal road_position_vertical road_sealed road_wet  \\\n",
       "0                 straight                  level        True    False   \n",
       "1                 straight                  level        True    False   \n",
       "2                 straight                  slope        True    False   \n",
       "3                 straight                  level        True    False   \n",
       "4                 straight                  level        True    False   \n",
       "\n",
       "  weather          crash_type  lighting traffic_controls   latitude  \\\n",
       "0    fine         Right Angle  daylight             none -34.914969   \n",
       "1    fine  Hit Parked Vehicle  daylight             none -34.945412   \n",
       "2    fine               Other  daylight             none -35.348783   \n",
       "3    fine            Rear End  daylight        stop_sign -34.910890   \n",
       "4    fine            Rear End  daylight   traffic_lights -34.905235   \n",
       "\n",
       "    longitude country state  \n",
       "0  138.623262      AU    SA  \n",
       "1  138.610691      AU    SA  \n",
       "2  138.454738      AU    SA  \n",
       "3  138.564640      AU    SA  \n",
       "4  138.572411      AU    SA  "
      ]
     },
     "execution_count": 81,
     "metadata": {},
     "output_type": "execute_result"
    }
   ],
   "source": [
    "merged_left.head()"
   ]
  },
  {
   "cell_type": "code",
   "execution_count": 82,
   "metadata": {},
   "outputs": [],
   "source": [
    "label = merged_left.drop(['speed_limit'],axis=1)\n",
    "\n",
    "               \n"
   ]
  },
  {
   "cell_type": "code",
   "execution_count": 83,
   "metadata": {},
   "outputs": [
    {
     "name": "stdout",
     "output_type": "stream",
     "text": [
      "<class 'pandas.core.frame.DataFrame'>\n",
      "Int64Index: 844695 entries, 0 to 844694\n",
      "Data columns (total 15 columns):\n",
      "severity                    844695 non-null object\n",
      "midblock                    844695 non-null bool\n",
      "intersection                844695 non-null bool\n",
      "road_position_horizontal    844695 non-null object\n",
      "road_position_vertical      844695 non-null object\n",
      "road_sealed                 844695 non-null object\n",
      "road_wet                    844695 non-null object\n",
      "weather                     844695 non-null object\n",
      "crash_type                  844695 non-null object\n",
      "lighting                    844695 non-null object\n",
      "traffic_controls            844695 non-null object\n",
      "latitude                    844695 non-null float64\n",
      "longitude                   844695 non-null float64\n",
      "country                     844695 non-null object\n",
      "state                       844695 non-null object\n",
      "dtypes: bool(2), float64(2), object(11)\n",
      "memory usage: 91.8+ MB\n"
     ]
    }
   ],
   "source": [
    "label.info()\n"
   ]
  },
  {
   "cell_type": "code",
   "execution_count": 84,
   "metadata": {},
   "outputs": [],
   "source": [
    "label['midblock'] = label['midblock'].astype('str')"
   ]
  },
  {
   "cell_type": "code",
   "execution_count": 85,
   "metadata": {},
   "outputs": [],
   "source": [
    "label['intersection'] = label['intersection'].astype('str')"
   ]
  },
  {
   "cell_type": "code",
   "execution_count": 86,
   "metadata": {},
   "outputs": [],
   "source": [
    "label['road_sealed'] = label['road_sealed'].astype('str')"
   ]
  },
  {
   "cell_type": "code",
   "execution_count": 87,
   "metadata": {},
   "outputs": [],
   "source": [
    "label['road_wet'] = label['road_wet'].astype('str')"
   ]
  },
  {
   "cell_type": "code",
   "execution_count": 88,
   "metadata": {},
   "outputs": [],
   "source": [
    "label['latitude']=label['latitude'].astype('str')"
   ]
  },
  {
   "cell_type": "code",
   "execution_count": 89,
   "metadata": {},
   "outputs": [],
   "source": [
    "label['longitude']=label['longitude'].astype('str')"
   ]
  },
  {
   "cell_type": "code",
   "execution_count": 90,
   "metadata": {},
   "outputs": [],
   "source": [
    "label = label.apply(LabelEncoder().fit_transform)"
   ]
  },
  {
   "cell_type": "code",
   "execution_count": 91,
   "metadata": {},
   "outputs": [
    {
     "data": {
      "text/html": [
       "<div>\n",
       "<style scoped>\n",
       "    .dataframe tbody tr th:only-of-type {\n",
       "        vertical-align: middle;\n",
       "    }\n",
       "\n",
       "    .dataframe tbody tr th {\n",
       "        vertical-align: top;\n",
       "    }\n",
       "\n",
       "    .dataframe thead th {\n",
       "        text-align: right;\n",
       "    }\n",
       "</style>\n",
       "<table border=\"1\" class=\"dataframe\">\n",
       "  <thead>\n",
       "    <tr style=\"text-align: right;\">\n",
       "      <th></th>\n",
       "      <th>severity</th>\n",
       "      <th>speed_limit</th>\n",
       "      <th>midblock</th>\n",
       "      <th>intersection</th>\n",
       "      <th>road_position_horizontal</th>\n",
       "      <th>road_position_vertical</th>\n",
       "      <th>road_sealed</th>\n",
       "      <th>road_wet</th>\n",
       "      <th>weather</th>\n",
       "      <th>crash_type</th>\n",
       "      <th>lighting</th>\n",
       "      <th>traffic_controls</th>\n",
       "      <th>latitude</th>\n",
       "      <th>longitude</th>\n",
       "      <th>country</th>\n",
       "      <th>state</th>\n",
       "    </tr>\n",
       "  </thead>\n",
       "  <tbody>\n",
       "    <tr>\n",
       "      <td>0</td>\n",
       "      <td>property_damage</td>\n",
       "      <td>60</td>\n",
       "      <td>True</td>\n",
       "      <td>False</td>\n",
       "      <td>straight</td>\n",
       "      <td>level</td>\n",
       "      <td>True</td>\n",
       "      <td>False</td>\n",
       "      <td>fine</td>\n",
       "      <td>Right Angle</td>\n",
       "      <td>daylight</td>\n",
       "      <td>none</td>\n",
       "      <td>-34.914969</td>\n",
       "      <td>138.623262</td>\n",
       "      <td>AU</td>\n",
       "      <td>SA</td>\n",
       "    </tr>\n",
       "    <tr>\n",
       "      <td>1</td>\n",
       "      <td>property_damage</td>\n",
       "      <td>40</td>\n",
       "      <td>True</td>\n",
       "      <td>False</td>\n",
       "      <td>straight</td>\n",
       "      <td>level</td>\n",
       "      <td>True</td>\n",
       "      <td>False</td>\n",
       "      <td>fine</td>\n",
       "      <td>Hit Parked Vehicle</td>\n",
       "      <td>daylight</td>\n",
       "      <td>none</td>\n",
       "      <td>-34.945412</td>\n",
       "      <td>138.610691</td>\n",
       "      <td>AU</td>\n",
       "      <td>SA</td>\n",
       "    </tr>\n",
       "    <tr>\n",
       "      <td>2</td>\n",
       "      <td>property_damage</td>\n",
       "      <td>100</td>\n",
       "      <td>True</td>\n",
       "      <td>False</td>\n",
       "      <td>straight</td>\n",
       "      <td>slope</td>\n",
       "      <td>True</td>\n",
       "      <td>False</td>\n",
       "      <td>fine</td>\n",
       "      <td>Other</td>\n",
       "      <td>daylight</td>\n",
       "      <td>none</td>\n",
       "      <td>-35.348783</td>\n",
       "      <td>138.454738</td>\n",
       "      <td>AU</td>\n",
       "      <td>SA</td>\n",
       "    </tr>\n",
       "    <tr>\n",
       "      <td>3</td>\n",
       "      <td>property_damage</td>\n",
       "      <td>60</td>\n",
       "      <td>False</td>\n",
       "      <td>True</td>\n",
       "      <td>straight</td>\n",
       "      <td>level</td>\n",
       "      <td>True</td>\n",
       "      <td>False</td>\n",
       "      <td>fine</td>\n",
       "      <td>Rear End</td>\n",
       "      <td>daylight</td>\n",
       "      <td>stop_sign</td>\n",
       "      <td>-34.910890</td>\n",
       "      <td>138.564640</td>\n",
       "      <td>AU</td>\n",
       "      <td>SA</td>\n",
       "    </tr>\n",
       "    <tr>\n",
       "      <td>4</td>\n",
       "      <td>property_damage</td>\n",
       "      <td>60</td>\n",
       "      <td>False</td>\n",
       "      <td>True</td>\n",
       "      <td>straight</td>\n",
       "      <td>level</td>\n",
       "      <td>True</td>\n",
       "      <td>False</td>\n",
       "      <td>fine</td>\n",
       "      <td>Rear End</td>\n",
       "      <td>daylight</td>\n",
       "      <td>traffic_lights</td>\n",
       "      <td>-34.905235</td>\n",
       "      <td>138.572411</td>\n",
       "      <td>AU</td>\n",
       "      <td>SA</td>\n",
       "    </tr>\n",
       "  </tbody>\n",
       "</table>\n",
       "</div>"
      ],
      "text/plain": [
       "          severity speed_limit  midblock  intersection  \\\n",
       "0  property_damage          60      True         False   \n",
       "1  property_damage          40      True         False   \n",
       "2  property_damage         100      True         False   \n",
       "3  property_damage          60     False          True   \n",
       "4  property_damage          60     False          True   \n",
       "\n",
       "  road_position_horizontal road_position_vertical road_sealed road_wet  \\\n",
       "0                 straight                  level        True    False   \n",
       "1                 straight                  level        True    False   \n",
       "2                 straight                  slope        True    False   \n",
       "3                 straight                  level        True    False   \n",
       "4                 straight                  level        True    False   \n",
       "\n",
       "  weather          crash_type  lighting traffic_controls   latitude  \\\n",
       "0    fine         Right Angle  daylight             none -34.914969   \n",
       "1    fine  Hit Parked Vehicle  daylight             none -34.945412   \n",
       "2    fine               Other  daylight             none -35.348783   \n",
       "3    fine            Rear End  daylight        stop_sign -34.910890   \n",
       "4    fine            Rear End  daylight   traffic_lights -34.905235   \n",
       "\n",
       "    longitude country state  \n",
       "0  138.623262      AU    SA  \n",
       "1  138.610691      AU    SA  \n",
       "2  138.454738      AU    SA  \n",
       "3  138.564640      AU    SA  \n",
       "4  138.572411      AU    SA  "
      ]
     },
     "execution_count": 91,
     "metadata": {},
     "output_type": "execute_result"
    }
   ],
   "source": [
    "merged_left.head()"
   ]
  },
  {
   "cell_type": "code",
   "execution_count": 92,
   "metadata": {},
   "outputs": [
    {
     "data": {
      "text/html": [
       "<div>\n",
       "<style scoped>\n",
       "    .dataframe tbody tr th:only-of-type {\n",
       "        vertical-align: middle;\n",
       "    }\n",
       "\n",
       "    .dataframe tbody tr th {\n",
       "        vertical-align: top;\n",
       "    }\n",
       "\n",
       "    .dataframe thead th {\n",
       "        text-align: right;\n",
       "    }\n",
       "</style>\n",
       "<table border=\"1\" class=\"dataframe\">\n",
       "  <thead>\n",
       "    <tr style=\"text-align: right;\">\n",
       "      <th></th>\n",
       "      <th>severity</th>\n",
       "      <th>midblock</th>\n",
       "      <th>intersection</th>\n",
       "      <th>road_position_horizontal</th>\n",
       "      <th>road_position_vertical</th>\n",
       "      <th>road_sealed</th>\n",
       "      <th>road_wet</th>\n",
       "      <th>weather</th>\n",
       "      <th>crash_type</th>\n",
       "      <th>lighting</th>\n",
       "      <th>traffic_controls</th>\n",
       "      <th>latitude</th>\n",
       "      <th>longitude</th>\n",
       "      <th>country</th>\n",
       "      <th>state</th>\n",
       "    </tr>\n",
       "  </thead>\n",
       "  <tbody>\n",
       "    <tr>\n",
       "      <td>0</td>\n",
       "      <td>2</td>\n",
       "      <td>1</td>\n",
       "      <td>0</td>\n",
       "      <td>2</td>\n",
       "      <td>2</td>\n",
       "      <td>1</td>\n",
       "      <td>0</td>\n",
       "      <td>0</td>\n",
       "      <td>14</td>\n",
       "      <td>3</td>\n",
       "      <td>2</td>\n",
       "      <td>240426</td>\n",
       "      <td>39386</td>\n",
       "      <td>0</td>\n",
       "      <td>3</td>\n",
       "    </tr>\n",
       "    <tr>\n",
       "      <td>1</td>\n",
       "      <td>2</td>\n",
       "      <td>1</td>\n",
       "      <td>0</td>\n",
       "      <td>2</td>\n",
       "      <td>2</td>\n",
       "      <td>1</td>\n",
       "      <td>0</td>\n",
       "      <td>0</td>\n",
       "      <td>7</td>\n",
       "      <td>3</td>\n",
       "      <td>2</td>\n",
       "      <td>247986</td>\n",
       "      <td>35663</td>\n",
       "      <td>0</td>\n",
       "      <td>3</td>\n",
       "    </tr>\n",
       "    <tr>\n",
       "      <td>2</td>\n",
       "      <td>2</td>\n",
       "      <td>1</td>\n",
       "      <td>0</td>\n",
       "      <td>2</td>\n",
       "      <td>3</td>\n",
       "      <td>1</td>\n",
       "      <td>0</td>\n",
       "      <td>0</td>\n",
       "      <td>11</td>\n",
       "      <td>3</td>\n",
       "      <td>2</td>\n",
       "      <td>318777</td>\n",
       "      <td>5661</td>\n",
       "      <td>0</td>\n",
       "      <td>3</td>\n",
       "    </tr>\n",
       "    <tr>\n",
       "      <td>3</td>\n",
       "      <td>2</td>\n",
       "      <td>0</td>\n",
       "      <td>1</td>\n",
       "      <td>2</td>\n",
       "      <td>2</td>\n",
       "      <td>1</td>\n",
       "      <td>0</td>\n",
       "      <td>0</td>\n",
       "      <td>13</td>\n",
       "      <td>3</td>\n",
       "      <td>6</td>\n",
       "      <td>239448</td>\n",
       "      <td>21682</td>\n",
       "      <td>0</td>\n",
       "      <td>3</td>\n",
       "    </tr>\n",
       "    <tr>\n",
       "      <td>4</td>\n",
       "      <td>2</td>\n",
       "      <td>0</td>\n",
       "      <td>1</td>\n",
       "      <td>2</td>\n",
       "      <td>2</td>\n",
       "      <td>1</td>\n",
       "      <td>0</td>\n",
       "      <td>0</td>\n",
       "      <td>13</td>\n",
       "      <td>3</td>\n",
       "      <td>7</td>\n",
       "      <td>238041</td>\n",
       "      <td>23741</td>\n",
       "      <td>0</td>\n",
       "      <td>3</td>\n",
       "    </tr>\n",
       "  </tbody>\n",
       "</table>\n",
       "</div>"
      ],
      "text/plain": [
       "   severity  midblock  intersection  road_position_horizontal  \\\n",
       "0         2         1             0                         2   \n",
       "1         2         1             0                         2   \n",
       "2         2         1             0                         2   \n",
       "3         2         0             1                         2   \n",
       "4         2         0             1                         2   \n",
       "\n",
       "   road_position_vertical  road_sealed  road_wet  weather  crash_type  \\\n",
       "0                       2            1         0        0          14   \n",
       "1                       2            1         0        0           7   \n",
       "2                       3            1         0        0          11   \n",
       "3                       2            1         0        0          13   \n",
       "4                       2            1         0        0          13   \n",
       "\n",
       "   lighting  traffic_controls  latitude  longitude  country  state  \n",
       "0         3                 2    240426      39386        0      3  \n",
       "1         3                 2    247986      35663        0      3  \n",
       "2         3                 2    318777       5661        0      3  \n",
       "3         3                 6    239448      21682        0      3  \n",
       "4         3                 7    238041      23741        0      3  "
      ]
     },
     "execution_count": 92,
     "metadata": {},
     "output_type": "execute_result"
    }
   ],
   "source": [
    "label.head()"
   ]
  },
  {
   "cell_type": "code",
   "execution_count": 93,
   "metadata": {},
   "outputs": [],
   "source": [
    "x = merged_left[['speed_limit']]"
   ]
  },
  {
   "cell_type": "code",
   "execution_count": 94,
   "metadata": {},
   "outputs": [
    {
     "name": "stderr",
     "output_type": "stream",
     "text": [
      "/Applications/anaconda3/lib/python3.7/site-packages/ipykernel_launcher.py:1: SettingWithCopyWarning: \n",
      "A value is trying to be set on a copy of a slice from a DataFrame.\n",
      "Try using .loc[row_indexer,col_indexer] = value instead\n",
      "\n",
      "See the caveats in the documentation: http://pandas.pydata.org/pandas-docs/stable/user_guide/indexing.html#returning-a-view-versus-a-copy\n",
      "  \"\"\"Entry point for launching an IPython kernel.\n"
     ]
    }
   ],
   "source": [
    "x['C'] = np.arange(len(x))"
   ]
  },
  {
   "cell_type": "code",
   "execution_count": 95,
   "metadata": {},
   "outputs": [],
   "source": [
    "label['C'] = np.arange(len(label))"
   ]
  },
  {
   "cell_type": "code",
   "execution_count": 96,
   "metadata": {},
   "outputs": [],
   "source": [
    "label = pd.merge(left=label, right=x, how='inner', left_on='C', right_on='C')"
   ]
  },
  {
   "cell_type": "code",
   "execution_count": 97,
   "metadata": {},
   "outputs": [
    {
     "data": {
      "text/html": [
       "<div>\n",
       "<style scoped>\n",
       "    .dataframe tbody tr th:only-of-type {\n",
       "        vertical-align: middle;\n",
       "    }\n",
       "\n",
       "    .dataframe tbody tr th {\n",
       "        vertical-align: top;\n",
       "    }\n",
       "\n",
       "    .dataframe thead th {\n",
       "        text-align: right;\n",
       "    }\n",
       "</style>\n",
       "<table border=\"1\" class=\"dataframe\">\n",
       "  <thead>\n",
       "    <tr style=\"text-align: right;\">\n",
       "      <th></th>\n",
       "      <th>severity</th>\n",
       "      <th>midblock</th>\n",
       "      <th>intersection</th>\n",
       "      <th>road_position_horizontal</th>\n",
       "      <th>road_position_vertical</th>\n",
       "      <th>road_sealed</th>\n",
       "      <th>road_wet</th>\n",
       "      <th>weather</th>\n",
       "      <th>crash_type</th>\n",
       "      <th>lighting</th>\n",
       "      <th>traffic_controls</th>\n",
       "      <th>latitude</th>\n",
       "      <th>longitude</th>\n",
       "      <th>country</th>\n",
       "      <th>state</th>\n",
       "      <th>C</th>\n",
       "      <th>speed_limit</th>\n",
       "    </tr>\n",
       "  </thead>\n",
       "  <tbody>\n",
       "    <tr>\n",
       "      <td>0</td>\n",
       "      <td>2</td>\n",
       "      <td>1</td>\n",
       "      <td>0</td>\n",
       "      <td>2</td>\n",
       "      <td>2</td>\n",
       "      <td>1</td>\n",
       "      <td>0</td>\n",
       "      <td>0</td>\n",
       "      <td>14</td>\n",
       "      <td>3</td>\n",
       "      <td>2</td>\n",
       "      <td>240426</td>\n",
       "      <td>39386</td>\n",
       "      <td>0</td>\n",
       "      <td>3</td>\n",
       "      <td>0</td>\n",
       "      <td>60</td>\n",
       "    </tr>\n",
       "    <tr>\n",
       "      <td>1</td>\n",
       "      <td>2</td>\n",
       "      <td>1</td>\n",
       "      <td>0</td>\n",
       "      <td>2</td>\n",
       "      <td>2</td>\n",
       "      <td>1</td>\n",
       "      <td>0</td>\n",
       "      <td>0</td>\n",
       "      <td>7</td>\n",
       "      <td>3</td>\n",
       "      <td>2</td>\n",
       "      <td>247986</td>\n",
       "      <td>35663</td>\n",
       "      <td>0</td>\n",
       "      <td>3</td>\n",
       "      <td>1</td>\n",
       "      <td>40</td>\n",
       "    </tr>\n",
       "    <tr>\n",
       "      <td>2</td>\n",
       "      <td>2</td>\n",
       "      <td>1</td>\n",
       "      <td>0</td>\n",
       "      <td>2</td>\n",
       "      <td>3</td>\n",
       "      <td>1</td>\n",
       "      <td>0</td>\n",
       "      <td>0</td>\n",
       "      <td>11</td>\n",
       "      <td>3</td>\n",
       "      <td>2</td>\n",
       "      <td>318777</td>\n",
       "      <td>5661</td>\n",
       "      <td>0</td>\n",
       "      <td>3</td>\n",
       "      <td>2</td>\n",
       "      <td>100</td>\n",
       "    </tr>\n",
       "    <tr>\n",
       "      <td>3</td>\n",
       "      <td>2</td>\n",
       "      <td>0</td>\n",
       "      <td>1</td>\n",
       "      <td>2</td>\n",
       "      <td>2</td>\n",
       "      <td>1</td>\n",
       "      <td>0</td>\n",
       "      <td>0</td>\n",
       "      <td>13</td>\n",
       "      <td>3</td>\n",
       "      <td>6</td>\n",
       "      <td>239448</td>\n",
       "      <td>21682</td>\n",
       "      <td>0</td>\n",
       "      <td>3</td>\n",
       "      <td>3</td>\n",
       "      <td>60</td>\n",
       "    </tr>\n",
       "    <tr>\n",
       "      <td>4</td>\n",
       "      <td>2</td>\n",
       "      <td>0</td>\n",
       "      <td>1</td>\n",
       "      <td>2</td>\n",
       "      <td>2</td>\n",
       "      <td>1</td>\n",
       "      <td>0</td>\n",
       "      <td>0</td>\n",
       "      <td>13</td>\n",
       "      <td>3</td>\n",
       "      <td>7</td>\n",
       "      <td>238041</td>\n",
       "      <td>23741</td>\n",
       "      <td>0</td>\n",
       "      <td>3</td>\n",
       "      <td>4</td>\n",
       "      <td>60</td>\n",
       "    </tr>\n",
       "  </tbody>\n",
       "</table>\n",
       "</div>"
      ],
      "text/plain": [
       "   severity  midblock  intersection  road_position_horizontal  \\\n",
       "0         2         1             0                         2   \n",
       "1         2         1             0                         2   \n",
       "2         2         1             0                         2   \n",
       "3         2         0             1                         2   \n",
       "4         2         0             1                         2   \n",
       "\n",
       "   road_position_vertical  road_sealed  road_wet  weather  crash_type  \\\n",
       "0                       2            1         0        0          14   \n",
       "1                       2            1         0        0           7   \n",
       "2                       3            1         0        0          11   \n",
       "3                       2            1         0        0          13   \n",
       "4                       2            1         0        0          13   \n",
       "\n",
       "   lighting  traffic_controls  latitude  longitude  country  state  C  \\\n",
       "0         3                 2    240426      39386        0      3  0   \n",
       "1         3                 2    247986      35663        0      3  1   \n",
       "2         3                 2    318777       5661        0      3  2   \n",
       "3         3                 6    239448      21682        0      3  3   \n",
       "4         3                 7    238041      23741        0      3  4   \n",
       "\n",
       "  speed_limit  \n",
       "0          60  \n",
       "1          40  \n",
       "2         100  \n",
       "3          60  \n",
       "4          60  "
      ]
     },
     "execution_count": 97,
     "metadata": {},
     "output_type": "execute_result"
    }
   ],
   "source": [
    "label.head()"
   ]
  },
  {
   "cell_type": "code",
   "execution_count": 98,
   "metadata": {},
   "outputs": [],
   "source": [
    "label = label.drop(['C'],axis=1)"
   ]
  },
  {
   "cell_type": "code",
   "execution_count": 99,
   "metadata": {},
   "outputs": [],
   "source": [
    "y = pd.DataFrame(label['severity'])"
   ]
  },
  {
   "cell_type": "code",
   "execution_count": 100,
   "metadata": {},
   "outputs": [],
   "source": [
    "label = label.drop(['severity'],axis=1)\n"
   ]
  },
  {
   "cell_type": "code",
   "execution_count": 101,
   "metadata": {},
   "outputs": [],
   "source": [
    "label = label.astype('int64')"
   ]
  },
  {
   "cell_type": "code",
   "execution_count": 102,
   "metadata": {},
   "outputs": [
    {
     "data": {
      "text/plain": [
       "(844695, 15)"
      ]
     },
     "execution_count": 102,
     "metadata": {},
     "output_type": "execute_result"
    }
   ],
   "source": [
    "X_split= preprocessing.StandardScaler().fit(label).transform(label)\n",
    "X_split.shape"
   ]
  },
  {
   "cell_type": "code",
   "execution_count": 103,
   "metadata": {},
   "outputs": [],
   "source": [
    "X_train, X_test, y_train, y_test = train_test_split(X_split, y, test_size=0.3, random_state=1)"
   ]
  },
  {
   "cell_type": "code",
   "execution_count": 104,
   "metadata": {},
   "outputs": [],
   "source": [
    "from sklearn.feature_selection import mutual_info_classif"
   ]
  },
  {
   "cell_type": "code",
   "execution_count": 105,
   "metadata": {},
   "outputs": [],
   "source": [
    "def select_features(X_train, y_train, X_test):\n",
    "\tfs = SelectKBest(score_func=mutual_info_classif, k='all')\n",
    "\tfs.fit(X_train, y_train)\n",
    "\tX_train_fs = fs.transform(X_train)\n",
    "\tX_test_fs = fs.transform(X_test)\n",
    "\treturn X_train_fs, X_test_fs, fs\n"
   ]
  },
  {
   "cell_type": "code",
   "execution_count": 106,
   "metadata": {},
   "outputs": [
    {
     "name": "stderr",
     "output_type": "stream",
     "text": [
      "/Applications/anaconda3/lib/python3.7/site-packages/sklearn/utils/validation.py:724: DataConversionWarning: A column-vector y was passed when a 1d array was expected. Please change the shape of y to (n_samples, ), for example using ravel().\n",
      "  y = column_or_1d(y, warn=True)\n"
     ]
    }
   ],
   "source": [
    "X_train_fs, X_test_fs, fs = select_features(X_train, y_train, X_test)"
   ]
  },
  {
   "cell_type": "code",
   "execution_count": 107,
   "metadata": {},
   "outputs": [
    {
     "name": "stdout",
     "output_type": "stream",
     "text": [
      "Feature 0: 0.000000\n",
      "Feature 1: 0.000000\n",
      "Feature 2: 1.000000\n",
      "Feature 3: 1.000000\n",
      "Feature 4: 0.000000\n",
      "Feature 5: 0.000000\n",
      "Feature 6: 0.000000\n",
      "Feature 7: 1.000000\n",
      "Feature 8: 1.000000\n",
      "Feature 9: 1.000000\n",
      "Feature 10: 0.000000\n",
      "Feature 11: 1.000000\n",
      "Feature 12: 0.000000\n",
      "Feature 13: 1.000000\n",
      "Feature 14: 1.000000\n"
     ]
    },
    {
     "data": {
      "image/png": "[encoded data removed]",
      "text/plain": [
       "<Figure size 432x288 with 1 Axes>"
      ]
     },
     "metadata": {
      "needs_background": "light"
     },
     "output_type": "display_data"
    }
   ],
   "source": [
    "from matplotlib import pyplot\n",
    " \n",
    "for i in range(len(fs.scores_)):\n",
    " #ram = fs.scores_[i]>0.5\n",
    " print('Feature %d: %f' % (i, fs.scores_[i]>0.05))\n",
    "\n",
    "  #plot the scores\n",
    "pyplot.bar([i for i in range(len(fs.scores_))], fs.scores_)\n",
    "pyplot.show()\n",
    "pyplot.rcParams[\"figure.figsize\"] = (20,20)"
   ]
  },
  {
   "cell_type": "code",
   "execution_count": 108,
   "metadata": {},
   "outputs": [
    {
     "data": {
      "text/html": [
       "<div>\n",
       "<style scoped>\n",
       "    .dataframe tbody tr th:only-of-type {\n",
       "        vertical-align: middle;\n",
       "    }\n",
       "\n",
       "    .dataframe tbody tr th {\n",
       "        vertical-align: top;\n",
       "    }\n",
       "\n",
       "    .dataframe thead th {\n",
       "        text-align: right;\n",
       "    }\n",
       "</style>\n",
       "<table border=\"1\" class=\"dataframe\">\n",
       "  <thead>\n",
       "    <tr style=\"text-align: right;\">\n",
       "      <th></th>\n",
       "      <th>midblock</th>\n",
       "      <th>intersection</th>\n",
       "      <th>road_position_horizontal</th>\n",
       "      <th>road_position_vertical</th>\n",
       "      <th>road_sealed</th>\n",
       "      <th>road_wet</th>\n",
       "      <th>weather</th>\n",
       "      <th>crash_type</th>\n",
       "      <th>lighting</th>\n",
       "      <th>traffic_controls</th>\n",
       "      <th>latitude</th>\n",
       "      <th>longitude</th>\n",
       "      <th>country</th>\n",
       "      <th>state</th>\n",
       "      <th>speed_limit</th>\n",
       "    </tr>\n",
       "  </thead>\n",
       "  <tbody>\n",
       "    <tr>\n",
       "      <td>0</td>\n",
       "      <td>1</td>\n",
       "      <td>0</td>\n",
       "      <td>2</td>\n",
       "      <td>2</td>\n",
       "      <td>1</td>\n",
       "      <td>0</td>\n",
       "      <td>0</td>\n",
       "      <td>14</td>\n",
       "      <td>3</td>\n",
       "      <td>2</td>\n",
       "      <td>240426</td>\n",
       "      <td>39386</td>\n",
       "      <td>0</td>\n",
       "      <td>3</td>\n",
       "      <td>60</td>\n",
       "    </tr>\n",
       "    <tr>\n",
       "      <td>1</td>\n",
       "      <td>1</td>\n",
       "      <td>0</td>\n",
       "      <td>2</td>\n",
       "      <td>2</td>\n",
       "      <td>1</td>\n",
       "      <td>0</td>\n",
       "      <td>0</td>\n",
       "      <td>7</td>\n",
       "      <td>3</td>\n",
       "      <td>2</td>\n",
       "      <td>247986</td>\n",
       "      <td>35663</td>\n",
       "      <td>0</td>\n",
       "      <td>3</td>\n",
       "      <td>40</td>\n",
       "    </tr>\n",
       "    <tr>\n",
       "      <td>2</td>\n",
       "      <td>1</td>\n",
       "      <td>0</td>\n",
       "      <td>2</td>\n",
       "      <td>3</td>\n",
       "      <td>1</td>\n",
       "      <td>0</td>\n",
       "      <td>0</td>\n",
       "      <td>11</td>\n",
       "      <td>3</td>\n",
       "      <td>2</td>\n",
       "      <td>318777</td>\n",
       "      <td>5661</td>\n",
       "      <td>0</td>\n",
       "      <td>3</td>\n",
       "      <td>100</td>\n",
       "    </tr>\n",
       "    <tr>\n",
       "      <td>3</td>\n",
       "      <td>0</td>\n",
       "      <td>1</td>\n",
       "      <td>2</td>\n",
       "      <td>2</td>\n",
       "      <td>1</td>\n",
       "      <td>0</td>\n",
       "      <td>0</td>\n",
       "      <td>13</td>\n",
       "      <td>3</td>\n",
       "      <td>6</td>\n",
       "      <td>239448</td>\n",
       "      <td>21682</td>\n",
       "      <td>0</td>\n",
       "      <td>3</td>\n",
       "      <td>60</td>\n",
       "    </tr>\n",
       "    <tr>\n",
       "      <td>4</td>\n",
       "      <td>0</td>\n",
       "      <td>1</td>\n",
       "      <td>2</td>\n",
       "      <td>2</td>\n",
       "      <td>1</td>\n",
       "      <td>0</td>\n",
       "      <td>0</td>\n",
       "      <td>13</td>\n",
       "      <td>3</td>\n",
       "      <td>7</td>\n",
       "      <td>238041</td>\n",
       "      <td>23741</td>\n",
       "      <td>0</td>\n",
       "      <td>3</td>\n",
       "      <td>60</td>\n",
       "    </tr>\n",
       "  </tbody>\n",
       "</table>\n",
       "</div>"
      ],
      "text/plain": [
       "   midblock  intersection  road_position_horizontal  road_position_vertical  \\\n",
       "0         1             0                         2                       2   \n",
       "1         1             0                         2                       2   \n",
       "2         1             0                         2                       3   \n",
       "3         0             1                         2                       2   \n",
       "4         0             1                         2                       2   \n",
       "\n",
       "   road_sealed  road_wet  weather  crash_type  lighting  traffic_controls  \\\n",
       "0            1         0        0          14         3                 2   \n",
       "1            1         0        0           7         3                 2   \n",
       "2            1         0        0          11         3                 2   \n",
       "3            1         0        0          13         3                 6   \n",
       "4            1         0        0          13         3                 7   \n",
       "\n",
       "   latitude  longitude  country  state  speed_limit  \n",
       "0    240426      39386        0      3           60  \n",
       "1    247986      35663        0      3           40  \n",
       "2    318777       5661        0      3          100  \n",
       "3    239448      21682        0      3           60  \n",
       "4    238041      23741        0      3           60  "
      ]
     },
     "execution_count": 108,
     "metadata": {},
     "output_type": "execute_result"
    }
   ],
   "source": [
    "label.head()"
   ]
  },
  {
   "cell_type": "code",
   "execution_count": 109,
   "metadata": {},
   "outputs": [
    {
     "data": {
      "text/plain": [
       "Index(['midblock', 'intersection', 'road_position_horizontal',\n",
       "       'road_position_vertical', 'road_sealed', 'road_wet', 'weather',\n",
       "       'crash_type', 'lighting', 'traffic_controls', 'latitude', 'longitude',\n",
       "       'country', 'state', 'speed_limit'],\n",
       "      dtype='object')"
      ]
     },
     "execution_count": 109,
     "metadata": {},
     "output_type": "execute_result"
    }
   ],
   "source": [
    "label.columns #2 3 7 8 9 11 13 14 "
   ]
  },
  {
   "cell_type": "code",
   "execution_count": 110,
   "metadata": {},
   "outputs": [],
   "source": [
    "feature = label[['road_position_horizontal','road_position_vertical','crash_type','lighting','traffic_controls',\n",
    "                 'state','speed_limit']]"
   ]
  },
  {
   "cell_type": "code",
   "execution_count": 111,
   "metadata": {},
   "outputs": [],
   "source": [
    "X_train_s, X_test_s, y_train_s, y_test_s = train_test_split(feature, y, test_size=0.3, random_state=1)"
   ]
  },
  {
   "cell_type": "code",
   "execution_count": 112,
   "metadata": {},
   "outputs": [
    {
     "name": "stderr",
     "output_type": "stream",
     "text": [
      "/Applications/anaconda3/lib/python3.7/site-packages/sklearn/utils/validation.py:724: DataConversionWarning: A column-vector y was passed when a 1d array was expected. Please change the shape of y to (n_samples, ), for example using ravel().\n",
      "  y = column_or_1d(y, warn=True)\n",
      "/Applications/anaconda3/lib/python3.7/site-packages/sklearn/linear_model/logistic.py:469: FutureWarning: Default multi_class will be changed to 'auto' in 0.22. Specify the multi_class option to silence this warning.\n",
      "  \"this warning.\", FutureWarning)\n",
      "/Applications/anaconda3/lib/python3.7/site-packages/sklearn/linear_model/logistic.py:947: ConvergenceWarning: lbfgs failed to converge. Increase the number of iterations.\n",
      "  \"of iterations.\", ConvergenceWarning)\n",
      "/Applications/anaconda3/lib/python3.7/site-packages/sklearn/linear_model/logistic.py:947: ConvergenceWarning: lbfgs failed to converge. Increase the number of iterations.\n",
      "  \"of iterations.\", ConvergenceWarning)\n",
      "/Applications/anaconda3/lib/python3.7/site-packages/sklearn/linear_model/logistic.py:947: ConvergenceWarning: lbfgs failed to converge. Increase the number of iterations.\n",
      "  \"of iterations.\", ConvergenceWarning)\n"
     ]
    },
    {
     "name": "stdout",
     "output_type": "stream",
     "text": [
      "Accuracy: 68.14\n"
     ]
    },
    {
     "name": "stderr",
     "output_type": "stream",
     "text": [
      "/Applications/anaconda3/lib/python3.7/site-packages/sklearn/linear_model/logistic.py:947: ConvergenceWarning: lbfgs failed to converge. Increase the number of iterations.\n",
      "  \"of iterations.\", ConvergenceWarning)\n"
     ]
    }
   ],
   "source": [
    "from sklearn.linear_model import LogisticRegression\n",
    "from sklearn.metrics import accuracy_score\n",
    "model = LogisticRegression(solver='lbfgs')\n",
    "model.fit(X_train_s, y_train_s)\n",
    "# evaluate the model\n",
    "yhat = model.predict(X_test_s)\n",
    "# evaluate predictions\n",
    "accuracy = accuracy_score(y_test_s, yhat)\n",
    "print('Accuracy: %.2f' % (accuracy*100))"
   ]
  },
  {
   "cell_type": "code",
   "execution_count": 113,
   "metadata": {},
   "outputs": [],
   "source": [
    "from sklearn.metrics import classification_report,confusion_matrix\n",
    "from sklearn import metrics \n",
    "import itertools"
   ]
  },
  {
   "cell_type": "code",
   "execution_count": 114,
   "metadata": {},
   "outputs": [
    {
     "data": {
      "text/plain": [
       "array([[     0,   1182,   1750,      0],\n",
       "       [     0,  37476,  45202,      0],\n",
       "       [     0,   2708, 135208,      0],\n",
       "       [     0,  20025,   9858,      0]])"
      ]
     },
     "execution_count": 114,
     "metadata": {},
     "output_type": "execute_result"
    }
   ],
   "source": [
    "cnf_matrix = confusion_matrix(y_test_s, yhat)\n",
    "cnf_matrix"
   ]
  },
  {
   "cell_type": "code",
   "execution_count": 115,
   "metadata": {},
   "outputs": [
    {
     "name": "stdout",
     "output_type": "stream",
     "text": [
      "              precision    recall  f1-score   support\n",
      "\n",
      "           0       0.00      0.00      0.00      2932\n",
      "           1       0.61      0.45      0.52     82678\n",
      "           2       0.70      0.98      0.82    137916\n",
      "           3       0.00      0.00      0.00     29883\n",
      "\n",
      "    accuracy                           0.68    253409\n",
      "   macro avg       0.33      0.36      0.33    253409\n",
      "weighted avg       0.58      0.68      0.62    253409\n",
      "\n",
      "Logistic Regression 0.681444\n"
     ]
    },
    {
     "name": "stderr",
     "output_type": "stream",
     "text": [
      "/Applications/anaconda3/lib/python3.7/site-packages/sklearn/metrics/classification.py:1437: UndefinedMetricWarning: Precision and F-score are ill-defined and being set to 0.0 in labels with no predicted samples.\n",
      "  'precision', 'predicted', average, warn_for)\n"
     ]
    }
   ],
   "source": [
    "print (classification_report(y_test_s, yhat))\n",
    "print(\"Logistic Regression %2f\" % metrics.accuracy_score(y_test_s,yhat))"
   ]
  },
  {
   "cell_type": "code",
   "execution_count": 116,
   "metadata": {},
   "outputs": [
    {
     "data": {
      "text/plain": [
       "DecisionTreeClassifier(class_weight=None, criterion='entropy', max_depth=4,\n",
       "                       max_features=None, max_leaf_nodes=None,\n",
       "                       min_impurity_decrease=0.0, min_impurity_split=None,\n",
       "                       min_samples_leaf=1, min_samples_split=2,\n",
       "                       min_weight_fraction_leaf=0.0, presort=False,\n",
       "                       random_state=None, splitter='best')"
      ]
     },
     "execution_count": 116,
     "metadata": {},
     "output_type": "execute_result"
    }
   ],
   "source": [
    "from sklearn.tree import DecisionTreeClassifier\n",
    "dec = DecisionTreeClassifier(criterion=\"entropy\",max_depth=4)\n",
    "dec"
   ]
  },
  {
   "cell_type": "code",
   "execution_count": 117,
   "metadata": {},
   "outputs": [
    {
     "data": {
      "text/plain": [
       "DecisionTreeClassifier(class_weight=None, criterion='entropy', max_depth=4,\n",
       "                       max_features=None, max_leaf_nodes=None,\n",
       "                       min_impurity_decrease=0.0, min_impurity_split=None,\n",
       "                       min_samples_leaf=1, min_samples_split=2,\n",
       "                       min_weight_fraction_leaf=0.0, presort=False,\n",
       "                       random_state=None, splitter='best')"
      ]
     },
     "execution_count": 117,
     "metadata": {},
     "output_type": "execute_result"
    }
   ],
   "source": [
    "dec.fit(X_train_s,y_train_s)"
   ]
  },
  {
   "cell_type": "code",
   "execution_count": 118,
   "metadata": {},
   "outputs": [],
   "source": [
    "pred_tree = dec.predict(X_test_s)"
   ]
  },
  {
   "cell_type": "code",
   "execution_count": 119,
   "metadata": {},
   "outputs": [
    {
     "name": "stdout",
     "output_type": "stream",
     "text": [
      "Decision Tree Classifier accuracy 0.687770\n"
     ]
    }
   ],
   "source": [
    "from sklearn import metrics \n",
    "print(\"Decision Tree Classifier accuracy %2f\" % metrics.accuracy_score(y_test_s,pred_tree))"
   ]
  },
  {
   "cell_type": "code",
   "execution_count": null,
   "metadata": {},
   "outputs": [
    {
     "name": "stderr",
     "output_type": "stream",
     "text": [
      "/Applications/anaconda3/lib/python3.7/site-packages/sklearn/utils/validation.py:724: DataConversionWarning: A column-vector y was passed when a 1d array was expected. Please change the shape of y to (n_samples, ), for example using ravel().\n",
      "  y = column_or_1d(y, warn=True)\n",
      "/Applications/anaconda3/lib/python3.7/site-packages/sklearn/svm/base.py:193: FutureWarning: The default value of gamma will change from 'auto' to 'scale' in version 0.22 to account better for unscaled features. Set gamma explicitly to 'auto' or 'scale' to avoid this warning.\n",
      "  \"avoid this warning.\", FutureWarning)\n"
     ]
    }
   ],
   "source": [
    "from sklearn import svm \n",
    "clf = svm.SVC(kernel='rbf')\n",
    "clf.fit(X_train_s,y_train_s)"
   ]
  },
  {
   "cell_type": "code",
   "execution_count": null,
   "metadata": {},
   "outputs": [],
   "source": [
    "y_hat = clf.predict(X_test_s)"
   ]
  },
  {
   "cell_type": "code",
   "execution_count": null,
   "metadata": {},
   "outputs": [],
   "source": [
    "from sklearn.metrics import classification_report,confusion_matrix\n",
    "from sklearn import metrics \n",
    "import itertools\n",
    "cnf_matrix = confusion_matrix(y_test_s, y_hat)\n",
    "cnf_matrix\n",
    "print (classification_report(y_test, y_hat))\n",
    "print(\"Support Vector Machine accuracy %2f\" % metrics.accuracy_score(y_test_s,y_hat))"
   ]
  },
  {
   "cell_type": "code",
   "execution_count": 120,
   "metadata": {},
   "outputs": [],
   "source": [
    "from sklearn.neighbors import KNeighborsClassifier"
   ]
  },
  {
   "cell_type": "code",
   "execution_count": 121,
   "metadata": {},
   "outputs": [
    {
     "name": "stderr",
     "output_type": "stream",
     "text": [
      "/Applications/anaconda3/lib/python3.7/site-packages/ipykernel_launcher.py:2: DataConversionWarning: A column-vector y was passed when a 1d array was expected. Please change the shape of y to (n_samples, ), for example using ravel().\n",
      "  \n"
     ]
    }
   ],
   "source": [
    "k=1\n",
    "n=KNeighborsClassifier(n_neighbors=k).fit(X_train_s,y_train_s)"
   ]
  },
  {
   "cell_type": "code",
   "execution_count": 122,
   "metadata": {},
   "outputs": [
    {
     "data": {
      "text/plain": [
       "array([2, 3, 2, 2, 1])"
      ]
     },
     "execution_count": 122,
     "metadata": {},
     "output_type": "execute_result"
    }
   ],
   "source": [
    "y_dash=n.predict(X_test_s)\n",
    "y_dash[0:5]"
   ]
  },
  {
   "cell_type": "code",
   "execution_count": 123,
   "metadata": {},
   "outputs": [
    {
     "name": "stderr",
     "output_type": "stream",
     "text": [
      "/Applications/anaconda3/lib/python3.7/site-packages/ipykernel_launcher.py:5: DataConversionWarning: A column-vector y was passed when a 1d array was expected. Please change the shape of y to (n_samples, ), for example using ravel().\n",
      "  \"\"\"\n",
      "/Applications/anaconda3/lib/python3.7/site-packages/ipykernel_launcher.py:5: DataConversionWarning: A column-vector y was passed when a 1d array was expected. Please change the shape of y to (n_samples, ), for example using ravel().\n",
      "  \"\"\"\n",
      "/Applications/anaconda3/lib/python3.7/site-packages/ipykernel_launcher.py:5: DataConversionWarning: A column-vector y was passed when a 1d array was expected. Please change the shape of y to (n_samples, ), for example using ravel().\n",
      "  \"\"\"\n",
      "/Applications/anaconda3/lib/python3.7/site-packages/ipykernel_launcher.py:5: DataConversionWarning: A column-vector y was passed when a 1d array was expected. Please change the shape of y to (n_samples, ), for example using ravel().\n",
      "  \"\"\"\n",
      "/Applications/anaconda3/lib/python3.7/site-packages/ipykernel_launcher.py:5: DataConversionWarning: A column-vector y was passed when a 1d array was expected. Please change the shape of y to (n_samples, ), for example using ravel().\n",
      "  \"\"\"\n",
      "/Applications/anaconda3/lib/python3.7/site-packages/ipykernel_launcher.py:5: DataConversionWarning: A column-vector y was passed when a 1d array was expected. Please change the shape of y to (n_samples, ), for example using ravel().\n",
      "  \"\"\"\n",
      "/Applications/anaconda3/lib/python3.7/site-packages/ipykernel_launcher.py:5: DataConversionWarning: A column-vector y was passed when a 1d array was expected. Please change the shape of y to (n_samples, ), for example using ravel().\n",
      "  \"\"\"\n",
      "/Applications/anaconda3/lib/python3.7/site-packages/ipykernel_launcher.py:5: DataConversionWarning: A column-vector y was passed when a 1d array was expected. Please change the shape of y to (n_samples, ), for example using ravel().\n",
      "  \"\"\"\n",
      "/Applications/anaconda3/lib/python3.7/site-packages/ipykernel_launcher.py:5: DataConversionWarning: A column-vector y was passed when a 1d array was expected. Please change the shape of y to (n_samples, ), for example using ravel().\n",
      "  \"\"\"\n"
     ]
    },
    {
     "name": "stdout",
     "output_type": "stream",
     "text": [
      "The best accuracy was with KNN neighbor 0.6680110019770411 with k= 9\n"
     ]
    }
   ],
   "source": [
    "k=10\n",
    "mean_acc = np.zeros((k-1))\n",
    "std_acc= np.zeros((k-1))\n",
    "for n in range (1,k):\n",
    "    neigh=KNeighborsClassifier(n_neighbors=n).fit(X_train_s,y_train_s)\n",
    "    y_dash=neigh.predict(X_test_s)\n",
    "    mean_acc[n-1]= metrics.accuracy_score(y_test_s,y_dash)\n",
    "    \n",
    "print( \"The best accuracy was with KNN neighbor\", mean_acc.max(), \"with k=\", mean_acc.argmax()+1)"
   ]
  },
  {
   "cell_type": "code",
   "execution_count": 124,
   "metadata": {},
   "outputs": [
    {
     "name": "stderr",
     "output_type": "stream",
     "text": [
      "/Applications/anaconda3/lib/python3.7/site-packages/ipykernel_launcher.py:2: DataConversionWarning: A column-vector y was passed when a 1d array was expected. Please change the shape of y to (n_samples, ), for example using ravel().\n",
      "  \n"
     ]
    }
   ],
   "source": [
    "k=9\n",
    "n=KNeighborsClassifier(n_neighbors=k).fit(X_train_s,y_train_s)"
   ]
  },
  {
   "cell_type": "code",
   "execution_count": 125,
   "metadata": {},
   "outputs": [],
   "source": [
    "y_dash=n.predict(X_test_s)"
   ]
  },
  {
   "cell_type": "code",
   "execution_count": 126,
   "metadata": {},
   "outputs": [
    {
     "data": {
      "text/plain": [
       "array([2, 1, 2, 2, 2])"
      ]
     },
     "execution_count": 126,
     "metadata": {},
     "output_type": "execute_result"
    }
   ],
   "source": [
    "y_dash[0:5]"
   ]
  },
  {
   "cell_type": "code",
   "execution_count": null,
   "metadata": {},
   "outputs": [],
   "source": []
  }
 ],
 "metadata": {
  "kernelspec": {
   "display_name": "Python 3",
   "language": "python",
   "name": "python3"
  },
  "language_info": {
   "codemirror_mode": {
    "name": "ipython",
    "version": 3
   },
   "file_extension": ".py",
   "mimetype": "text/x-python",
   "name": "python",
   "nbconvert_exporter": "python",
   "pygments_lexer": "ipython3",
   "version": "3.7.4"
  }
 },
 "nbformat": 4,
 "nbformat_minor": 2
}
